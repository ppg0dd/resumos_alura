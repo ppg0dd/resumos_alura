{
 "cells": [
  {
   "cell_type": "markdown",
   "id": "4137e935",
   "metadata": {},
   "source": [
    "# 01. Bibliotecas "
   ]
  },
  {
   "cell_type": "code",
   "execution_count": 1,
   "id": "d163286d",
   "metadata": {},
   "outputs": [
    {
     "name": "stdout",
     "output_type": "stream",
     "text": [
      "Requirement already satisfied: matplotlib in c:\\users\\user\\anaconda3\\lib\\site-packages (3.6.2)\n",
      "Requirement already satisfied: contourpy>=1.0.1 in c:\\users\\user\\anaconda3\\lib\\site-packages (from matplotlib) (1.0.5)\n",
      "Requirement already satisfied: cycler>=0.10 in c:\\users\\user\\anaconda3\\lib\\site-packages (from matplotlib) (0.11.0)\n",
      "Requirement already satisfied: fonttools>=4.22.0 in c:\\users\\user\\anaconda3\\lib\\site-packages (from matplotlib) (4.25.0)\n",
      "Requirement already satisfied: kiwisolver>=1.0.1 in c:\\users\\user\\anaconda3\\lib\\site-packages (from matplotlib) (1.4.4)\n",
      "Requirement already satisfied: numpy>=1.19 in c:\\users\\user\\anaconda3\\lib\\site-packages (from matplotlib) (1.24.3)\n",
      "Requirement already satisfied: packaging>=20.0 in c:\\users\\user\\anaconda3\\lib\\site-packages (from matplotlib) (23.1)\n",
      "Requirement already satisfied: pillow>=6.2.0 in c:\\users\\user\\anaconda3\\lib\\site-packages (from matplotlib) (9.4.0)\n",
      "Requirement already satisfied: pyparsing>=2.2.1 in c:\\users\\user\\anaconda3\\lib\\site-packages (from matplotlib) (3.0.9)\n",
      "Requirement already satisfied: python-dateutil>=2.7 in c:\\users\\user\\anaconda3\\lib\\site-packages (from matplotlib) (2.8.2)\n",
      "Requirement already satisfied: six>=1.5 in c:\\users\\user\\anaconda3\\lib\\site-packages (from python-dateutil>=2.7->matplotlib) (1.16.0)\n"
     ]
    }
   ],
   "source": [
    "!pip install matplotlib"
   ]
  },
  {
   "cell_type": "code",
   "execution_count": 22,
   "id": "cbfbe817",
   "metadata": {},
   "outputs": [],
   "source": [
    "import matplotlib"
   ]
  },
  {
   "cell_type": "code",
   "execution_count": 23,
   "id": "7c1f8fcc",
   "metadata": {
    "scrolled": true
   },
   "outputs": [
    {
     "data": {
      "text/plain": [
       "'3.6.2'"
      ]
     },
     "execution_count": 23,
     "metadata": {},
     "output_type": "execute_result"
    }
   ],
   "source": [
    "matplotlib.__version__"
   ]
  },
  {
   "cell_type": "code",
   "execution_count": 24,
   "id": "7f777d54",
   "metadata": {
    "scrolled": false
   },
   "outputs": [
    {
     "data": {
      "image/png": "[encoded data removed]",
      "text/plain": [
       "<Figure size 640x480 with 1 Axes>"
      ]
     },
     "metadata": {},
     "output_type": "display_data"
    }
   ],
   "source": [
    "#Exemplo da utilização da biblioteca\n",
    "import matplotlib.pyplot as plt #as é o alias (apelido)\n",
    "\n",
    "estudantes = [\"João\", \"Maria\", \"José\"]\n",
    "notas = [8.5, 9, 6.5]\n",
    "\n",
    "plt.bar(x = estudantes, height = notas)\n",
    "plt.show()"
   ]
  },
  {
   "cell_type": "code",
   "execution_count": 25,
   "id": "e52136c1",
   "metadata": {},
   "outputs": [
    {
     "name": "stdout",
     "output_type": "stream",
     "text": [
      "Ana\n"
     ]
    }
   ],
   "source": [
    "# from <nome da biblioteca> import <metodo>\n",
    "from random import choice\n",
    "\n",
    "estudantes_2 = [\"João\", \"Maria\", \"José\", \"Ana\"]\n",
    "\n",
    "estudante_escolhido = choice(estudantes_2)\n",
    "print(estudante_escolhido)"
   ]
  },
  {
   "cell_type": "code",
   "execution_count": 28,
   "id": "f1e7d63f",
   "metadata": {},
   "outputs": [
    {
     "name": "stdout",
     "output_type": "stream",
     "text": [
      "[89, 86, 29, 94, 6, 55, 24, 38, 22, 62, 24, 61, 75, 83, 43, 91, 36, 70, 66, 88]\n",
      "[70, 86, 75, 22, 91]\n"
     ]
    }
   ],
   "source": [
    "from random import randrange, sample\n",
    "\n",
    "lista = []\n",
    "\n",
    "for i in range (0,20):\n",
    "    lista.append(randrange(99))\n",
    "lista_2 = sample(lista, 5)\n",
    "print(lista)\n",
    "print(lista_2)"
   ]
  },
  {
   "cell_type": "code",
   "execution_count": 29,
   "id": "36286359",
   "metadata": {},
   "outputs": [
    {
     "name": "stdout",
     "output_type": "stream",
     "text": [
      "5.0\n"
     ]
    }
   ],
   "source": [
    "from math import *\n",
    "\n",
    "n = 25\n",
    "print(sqrt(n))"
   ]
  },
  {
   "cell_type": "code",
   "execution_count": 32,
   "id": "f3e090e7",
   "metadata": {
    "scrolled": true
   },
   "outputs": [
    {
     "name": "stdout",
     "output_type": "stream",
     "text": [
      "1.5\n",
      "2\n"
     ]
    }
   ],
   "source": [
    "from math import ceil\n",
    "x = 3/2\n",
    "print(x)\n",
    "print(ceil(x)) #arredonda para cima"
   ]
  },
  {
   "cell_type": "markdown",
   "id": "54ea158e",
   "metadata": {},
   "source": [
    "# 02. Funções"
   ]
  },
  {
   "cell_type": "markdown",
   "id": "07faef72",
   "metadata": {},
   "source": [
    "### Built-in Functions\n",
    "- São funções embutidas\n",
    "- Podem ser invocadas a qualquer momento \n",
    "- Exemplo: print(), type(), list(), ..."
   ]
  },
  {
   "cell_type": "code",
   "execution_count": 1,
   "id": "471a8305",
   "metadata": {},
   "outputs": [
    {
     "name": "stdout",
     "output_type": "stream",
     "text": [
      "Média: 8.3\n"
     ]
    }
   ],
   "source": [
    "notas = {'1º Trimestre': 8.5, '2º Trimestre': 9.5, '3º trimestre': 7}\n",
    "soma = sum(notas.values())\n",
    "total = len(notas)\n",
    "media = soma / total\n",
    "media = round(media, 1) #arredonda para uma casa decimal\n",
    "print(f\"Média: {media}\")"
   ]
  },
  {
   "cell_type": "markdown",
   "id": "aeff3625",
   "metadata": {},
   "source": [
    "### Funções sem parâmetro"
   ]
  },
  {
   "cell_type": "code",
   "execution_count": 4,
   "id": "fdc23dae",
   "metadata": {
    "scrolled": true
   },
   "outputs": [
    {
     "name": "stdout",
     "output_type": "stream",
     "text": [
      "2.0\n"
     ]
    }
   ],
   "source": [
    "\"\"\"\n",
    "def <nome>():\n",
    "    <instruções>\n",
    "\"\"\"\n",
    "def media():\n",
    "    media = (1 + 2+ 3) / 3\n",
    "    print(media)\n",
    "\n",
    "media()"
   ]
  },
  {
   "cell_type": "markdown",
   "id": "f8208c1d",
   "metadata": {},
   "source": [
    "### Funções com parâmetro"
   ]
  },
  {
   "cell_type": "code",
   "execution_count": 7,
   "id": "79ce5d63",
   "metadata": {},
   "outputs": [
    {
     "name": "stdout",
     "output_type": "stream",
     "text": [
      "2.0\n"
     ]
    }
   ],
   "source": [
    "\"\"\"\n",
    "def <nome>(<param_1>, <param_2>, ..., >param_n>):\n",
    "    <instruções>\n",
    "\"\"\"\n",
    "def media(nota1, nota2, nota3):\n",
    "    media = (nota1 + nota2 + nota3) / 3\n",
    "    print(media)\n",
    "\n",
    "media(1, 2, 3)"
   ]
  },
  {
   "cell_type": "code",
   "execution_count": 9,
   "id": "3831f91c",
   "metadata": {},
   "outputs": [
    {
     "name": "stdout",
     "output_type": "stream",
     "text": [
      "8.375\n"
     ]
    }
   ],
   "source": [
    "# Notas do(a) estudante\n",
    "notas = [8.5, 9.0, 6.0, 10.0]\n",
    "def media (lista):\n",
    "    media = sum(lista) / len(lista)\n",
    "    print(media)\n",
    "media(notas)"
   ]
  },
  {
   "cell_type": "markdown",
   "id": "93f9ff9c",
   "metadata": {},
   "source": [
    "### Funções que retornam valores"
   ]
  },
  {
   "cell_type": "code",
   "execution_count": 11,
   "id": "b800b043",
   "metadata": {},
   "outputs": [
    {
     "name": "stdout",
     "output_type": "stream",
     "text": [
      "8.375\n"
     ]
    }
   ],
   "source": [
    "\"\"\"\n",
    "def <nome>(<param_1>, <param_2>, ..., >param_n>):\n",
    "    <instruções>\n",
    "    return resultado\n",
    "\"\"\"\n",
    "def media(lista):\n",
    "    calculo = sum(lista) / len(lista)\n",
    "    return calculo\n",
    "resultado = media(notas)\n",
    "print(resultado)"
   ]
  },
  {
   "cell_type": "markdown",
   "id": "f094005e",
   "metadata": {},
   "source": [
    "### Global"
   ]
  },
  {
   "cell_type": "code",
   "execution_count": 12,
   "id": "52f0d7ab",
   "metadata": {
    "scrolled": true
   },
   "outputs": [
    {
     "ename": "NameError",
     "evalue": "name 'x' is not defined",
     "output_type": "error",
     "traceback": [
      "\u001b[1;31m---------------------------------------------------------------------------\u001b[0m",
      "\u001b[1;31mNameError\u001b[0m                                 Traceback (most recent call last)",
      "Cell \u001b[1;32mIn[12], line 4\u001b[0m\n\u001b[0;32m      2\u001b[0m     x \u001b[38;5;241m=\u001b[39m \u001b[38;5;241m2\u001b[39m\n\u001b[0;32m      3\u001b[0m exemplo()\n\u001b[1;32m----> 4\u001b[0m \u001b[38;5;28mprint\u001b[39m(x)\n",
      "\u001b[1;31mNameError\u001b[0m: name 'x' is not defined"
     ]
    }
   ],
   "source": [
    "def exemplo():\n",
    "    x = 2\n",
    "exemplo()\n",
    "print(x)"
   ]
  },
  {
   "cell_type": "code",
   "execution_count": 14,
   "id": "6f2372be",
   "metadata": {},
   "outputs": [
    {
     "name": "stdout",
     "output_type": "stream",
     "text": [
      "2\n"
     ]
    }
   ],
   "source": [
    "def exemplo():\n",
    "    global x \n",
    "    x = 2\n",
    "exemplo()\n",
    "print(x)"
   ]
  },
  {
   "cell_type": "markdown",
   "id": "19893d78",
   "metadata": {},
   "source": [
    "### Lambda"
   ]
  },
  {
   "cell_type": "code",
   "execution_count": 18,
   "id": "8928082d",
   "metadata": {},
   "outputs": [
    {
     "name": "stdout",
     "output_type": "stream",
     "text": [
      "3\n"
     ]
    }
   ],
   "source": [
    "# lambda <variavel>: <expressao>\n",
    "x = 1\n",
    "soma = lambda y: y + 2\n",
    "print(soma(x))"
   ]
  },
  {
   "cell_type": "code",
   "execution_count": 19,
   "id": "2fe140dc",
   "metadata": {},
   "outputs": [
    {
     "name": "stdout",
     "output_type": "stream",
     "text": [
      "Digite a 1ª nota do(a) estudante: 10\n",
      "Digite a 2ª nota do(a) estudante: 2\n",
      "Digite a 3ª nota do(a) estudante: 5\n",
      "5.9\n"
     ]
    }
   ],
   "source": [
    "# Recebendo as notas e calculando a média ponderável\n",
    "N1 = float(input(\"Digite a 1ª nota do(a) estudante: \"))\n",
    "N2 = float(input(\"Digite a 2ª nota do(a) estudante: \"))\n",
    "N3 = float(input(\"Digite a 3ª nota do(a) estudante: \"))\n",
    "\n",
    "media_ponderavel = lambda x, y, z: (x * 3 + y * 2 + z * 5)/10\n",
    "print(media_ponderavel(N1, N2, N3))"
   ]
  },
  {
   "cell_type": "code",
   "execution_count": 26,
   "id": "65dc729b",
   "metadata": {},
   "outputs": [
    {
     "name": "stdout",
     "output_type": "stream",
     "text": [
      "[3.0, 3.5, 4.5, 2.75, 4.0]\n"
     ]
    }
   ],
   "source": [
    "# exemplo: Você quer multiplicar um valor por todos os itens de uma lista\n",
    "# Notas do(a) estudante\n",
    "notas = [6.0, 7.0, 9.0, 5.5, 8.0]\n",
    "qualitativo = 0.5\n",
    "# Para isso você precisa mapear os valores e depois transforma-los em lista\n",
    "notas2 = list(map(lambda x: x * qualitativo, notas))\n",
    "print(notas2)"
   ]
  },
  {
   "cell_type": "markdown",
   "id": "de6dbcd3",
   "metadata": {},
   "source": [
    "# 03. Estrutura de dados"
   ]
  },
  {
   "cell_type": "code",
   "execution_count": 3,
   "id": "a686df88",
   "metadata": {},
   "outputs": [
    {
     "name": "stdout",
     "output_type": "stream",
     "text": [
      "[8.0, 9.0, 10.0, 9.0, 7.0, 6.0, 3.4, 7.0, 7.0, 5.5, 6.6, 8.0, 6.0, 10.0, 9.5]\n",
      "['João', 'Maria', 'José', 'Cláudia', 'Ana']\n"
     ]
    }
   ],
   "source": [
    "#forma 1\n",
    "notas_turma = ['João', 8.0, 9.0, 10.0, 'Maria', 9.0, 7.0, 6.0, 'José', 3.4, 7.0, 7.0, 'Cláudia', 5.5, 6.6, 8.0, 'Ana', 6.0, 10.0, 9.5]\n",
    "notas = []\n",
    "nomes = []\n",
    "\n",
    "for i in range (len(notas_turma)):\n",
    "    if i % 4 == 0:\n",
    "        nomes.append(notas_turma[i])\n",
    "    else:\n",
    "        notas.append(notas_turma[i])\n",
    "print(notas)\n",
    "print(nomes)"
   ]
  },
  {
   "cell_type": "code",
   "execution_count": 8,
   "id": "167245fd",
   "metadata": {},
   "outputs": [
    {
     "name": "stdout",
     "output_type": "stream",
     "text": [
      "[[8.0, 9.0, 10.0], [9.0, 7.0, 6.0], [3.4, 7.0, 7.0], [5.5, 6.6, 8.0], [6.0, 10.0, 9.5]]\n",
      "[8.0, 9.0, 10.0]\n",
      "9.0\n"
     ]
    }
   ],
   "source": [
    "notas_juntas = ['João', 8.0, 9.0, 10.0, 'Maria', 9.0, 7.0, 6.0, 'José', 3.4, 7.0, 7.0, 'Cláudia', 5.5, 6.6, 8.0, 'Ana', 6.0, 10.0, 9.5]\n",
    "notas = []\n",
    "\n",
    "for i in range(0, len(notas_juntas), 4): \n",
    "    notas.append([notas_juntas[i+1], notas_juntas[i+2], notas_juntas[i+3]])\n",
    "print(notas)\n",
    "print(notas[0])\n",
    "print(notas[0][1])\n"
   ]
  },
  {
   "cell_type": "markdown",
   "id": "cab97ae1",
   "metadata": {},
   "source": [
    "### Tuplas\n",
    "- Estrutura de dados usada para armazenar itens em uma única variável\n",
    "- São imutáveis"
   ]
  },
  {
   "cell_type": "code",
   "execution_count": 3,
   "id": "4a09163b",
   "metadata": {},
   "outputs": [
    {
     "name": "stdout",
     "output_type": "stream",
     "text": [
      "J\n",
      "[('João', 'J841'), ('Maria', 'M593'), ('José', 'J283'), ('Cláudia', 'C907'), ('Ana', 'A393')]\n"
     ]
    }
   ],
   "source": [
    "from random import randint\n",
    "estudantes = [\"João\", \"Maria\", \"José\", \"Cláudia\", \"Ana\"]\n",
    "\n",
    "def gera_codigo():\n",
    "    return str(randint(0, 999))\n",
    "\n",
    "codigo_estudantes = []\n",
    "\n",
    "for i in range(len(estudantes)):\n",
    "    codigo_estudantes.append((estudantes[i], estudantes[i][0] + gera_codigo())) \n",
    "print(codigo_estudantes) # a tupla não permite alterar os valores"
   ]
  },
  {
   "cell_type": "markdown",
   "id": "a41a6083",
   "metadata": {},
   "source": [
    "### List Comprehension\n",
    "forma simples de criar listas.\n",
    "\n",
    "[expressão for item in lista]"
   ]
  },
  {
   "cell_type": "code",
   "execution_count": 1,
   "id": "785e2d37",
   "metadata": {},
   "outputs": [
    {
     "name": "stdout",
     "output_type": "stream",
     "text": [
      "[9.0, 7.3, 5.8, 6.7, 8.5]\n"
     ]
    }
   ],
   "source": [
    "notas = [[8.0, 9.0, 10.0], [9.0, 7.0, 6.0], [3.4, 7.0, 7.0], [5.5, 6.6, 8.0], [6.0, 10.0, 9.5]]\n",
    "\n",
    "def media (lista):\n",
    "    calculo = sum(lista) / len(lista)\n",
    "    return calculo\n",
    "\n",
    "medias = [round(media(x), 1) for x in notas]\n",
    "print(medias)"
   ]
  },
  {
   "cell_type": "code",
   "execution_count": 6,
   "id": "a7fa860e",
   "metadata": {
    "scrolled": true
   },
   "outputs": [
    {
     "name": "stdout",
     "output_type": "stream",
     "text": [
      "['João', 'Maria', 'José', 'Cláudia', 'Ana'] \n",
      "\n",
      "[('João', 9.0), ('Maria', 7.3), ('José', 5.8), ('Cláudia', 6.7), ('Ana', 8.5)] \n",
      "\n",
      "['João', 'Ana']\n"
     ]
    }
   ],
   "source": [
    "nomes = [('João', 'J720'), ('Maria', 'M205'), ('José', 'J371'), ('Cláudia', 'C546'), ('Ana', 'A347')]\n",
    "medias = [9.0, 7.3, 5.8, 6.7, 8.5]\n",
    "\n",
    "nomes = [nome[0] for nome in nomes]\n",
    "print(nomes, \"\\n\")\n",
    "\n",
    "estudantes = list(zip(nomes, medias))\n",
    "print(estudantes, \"\\n\")\n",
    "\n",
    "candidatos =  [estudante[0] for estudante in estudantes if estudante[1] >= 8]\n",
    "print(candidatos)"
   ]
  },
  {
   "cell_type": "code",
   "execution_count": 14,
   "id": "a8517f42",
   "metadata": {},
   "outputs": [
    {
     "name": "stdout",
     "output_type": "stream",
     "text": [
      "[('J392', 'M890', 'J681', 'C325', 'A49'), ('João', 'Maria', 'José', 'Claúdia', 'Ana')]\n",
      "\n",
      "IDs =  ['J392', 'M890', 'J681', 'C325', 'A49']\n",
      "Nomes =  ['João', 'Maria', 'José', 'Claúdia', 'Ana']\n"
     ]
    }
   ],
   "source": [
    "tupla_iteravel = [('J392', 'João'), ('M890', 'Maria'), ('J681', 'José'), ('C325', 'Claúdia'), ('A49', 'Ana')]\n",
    "ids, nomes  = zip(*tupla_iteravel) # o asterisco é o contrário de transformar uma tupla iterável em lista\n",
    "print(list(zip(*tupla_iteravel)))\n",
    "\n",
    "ids = list(ids)\n",
    "nomes = list(nomes)\n",
    "\n",
    "print(\"\\nIDs = \", ids)\n",
    "print(\"Nomes = \", nomes)\n"
   ]
  },
  {
   "cell_type": "code",
   "execution_count": 17,
   "id": "8882e6af",
   "metadata": {},
   "outputs": [
    {
     "name": "stdout",
     "output_type": "stream",
     "text": [
      "['Aprovado', 'Aprovado', 'Reprovado', 'Aprovado', 'Aprovado']\n"
     ]
    }
   ],
   "source": [
    "nomes = [('João', 'J720'), ('Maria', 'M205'), ('José', 'J371'), ('Cláudia', 'C546'), ('Ana', 'A347')]\n",
    "notas = [[8.0, 9.0, 10.0], [9.0, 7.0, 6.0], [3.4, 7.0, 7.0], [5.5, 6.6, 8.0], [6.0, 10.0, 9.5]]\n",
    "medias = [9.0, 7.3, 5.8, 6.7, 8.5]\n",
    "\n",
    "situacao = [\"Aprovado\" if media >= 6 else \"Reprovado\" for media in medias]\n",
    "print(situacao)"
   ]
  },
  {
   "cell_type": "code",
   "execution_count": 18,
   "id": "577125d3",
   "metadata": {
    "scrolled": true
   },
   "outputs": [
    {
     "name": "stdout",
     "output_type": "stream",
     "text": [
      "[[('João', 'J720'), ('Maria', 'M205'), ('José', 'J371'), ('Cláudia', 'C546'), ('Ana', 'A347')], [[8.0, 9.0, 10.0], [9.0, 7.0, 6.0], [3.4, 7.0, 7.0], [5.5, 6.6, 8.0], [6.0, 10.0, 9.5]], [9.0, 7.3, 5.8, 6.7, 8.5], ['Aprovado', 'Aprovado', 'Reprovado', 'Aprovado', 'Aprovado']]\n"
     ]
    }
   ],
   "source": [
    "# \"lista de listas\"\n",
    "lista_completa = [nomes, notas, medias ,situacao]\n",
    "print(lista_completa)"
   ]
  },
  {
   "cell_type": "markdown",
   "id": "02a5e0fd",
   "metadata": {},
   "source": [
    "### Dict comprehension\n",
    "{chave: valor for item in lista}"
   ]
  },
  {
   "cell_type": "code",
   "execution_count": 7,
   "id": "65d3b7de",
   "metadata": {},
   "outputs": [
    {
     "name": "stdout",
     "output_type": "stream",
     "text": [
      "{'Notas': [[8.0, 9.0, 10.0], [9.0, 7.0, 6.0], [3.4, 7.0, 7.0], [5.5, 6.6, 8.0], [6.0, 10.0, 9.5]], 'Média Final': [9.0, 7.3, 5.8, 6.7, 8.5], 'Situação': ['Aprovado', 'Aprovado', 'Reprovado', 'Aprovado', 'Aprovado'], 'Estudante': ['João', 'Maria', 'José', 'Cláudia', 'Ana']}\n"
     ]
    }
   ],
   "source": [
    "lista_completa = [[('João', 'J720'), ('Maria', 'M205'), ('José', 'J371'), ('Cláudia', 'C546'), ('Ana', 'A347')],\n",
    "                  [[8.0, 9.0, 10.0], [9.0, 7.0, 6.0], [3.4, 7.0, 7.0], [5.5, 6.6, 8.0], [6.0, 10.0, 9.5]],\n",
    "                  [9.0, 7.3, 5.8, 6.7, 8.5],\n",
    "                  ['Aprovado', 'Aprovado', 'Reprovado', 'Aprovado', 'Aprovado']]\n",
    "\n",
    "colunas = [\"Notas\", \"Média Final\", \"Situação\"]\n",
    "\n",
    "cadastro = {colunas[i]: lista_completa[i+1] for i in range(len(colunas))}\n",
    "\n",
    "cadastro[\"Estudante\"] = [lista_completa[0][i][0] for i in range(len(lista_completa[0]))]\n",
    "\n",
    "print(cadastro)"
   ]
  },
  {
   "cell_type": "code",
   "execution_count": 14,
   "id": "85411fa2",
   "metadata": {},
   "outputs": [
    {
     "name": "stdout",
     "output_type": "stream",
     "text": [
      "{'Anthony Silveira': 9.1, 'Diana Carvalho': 10.0}\n",
      "{'Anthony Silveira': 9.1, 'Diana Carvalho': 10.0}\n"
     ]
    }
   ],
   "source": [
    "nomes_estudantes = [ \"Enrico Monteiro\", \"Luna Pereira\", \"Anthony Silveira\", \"Letícia Fernandes\", \n",
    "                    \"João Vitor Nascimento\", \"Maysa Caldeira\", \"Diana Carvalho\", \"Mariane da Rosa\",\n",
    "                    \"Camila Fernandes\", \"Levi Alves\", \"Nicolas da Rocha\", \"Amanda Novaes\", \n",
    "                    \"Laís Moraes\", \"Letícia Oliveira\", \"Lucca Novaes\", \"Lara Cunha\", \n",
    "                    \"Beatriz Martins\", \"João Vitor Azevedo\", \"Stephany Rosa\", \"Gustavo Henrique Lima\" ]\n",
    "\n",
    "medias_estudantes = [5.4, 4.1, 9.1, 5.3, 6.9, 3.1, 10.0, 5.0, 8.2, 5.5,\n",
    "                    8.1, 7.4, 5.0, 3.7, 8.1, 6.2, 6.1, 5.6, 6.7, 8.2]\n",
    "\n",
    "premiados = {nomes_estudantes[i]: medias_estudantes[i] for i in range(len(medias_estudantes)) if medias_estudantes[i] >= 9}\n",
    "bolsistas = {nomes: medias for nomes, medias in zip(nomes_estudantes, medias_estudantes) if medias >= 9}\n",
    "print(premiados)\n",
    "print(bolsistas)"
   ]
  },
  {
   "cell_type": "markdown",
   "id": "a42d40b2",
   "metadata": {},
   "source": [
    "# 04. Lidando com exceções"
   ]
  },
  {
   "cell_type": "markdown",
   "id": "a2cf5bf9",
   "metadata": {},
   "source": [
    "## Tipos de erros:\n",
    "### TypeError: \n",
    "x = \"10\"\n",
    "\n",
    "y = 5\n",
    "\n",
    "z = x + y\n",
    "\n",
    "### KeyError:\n",
    "my_dict = {'a': 1, 'b': 2}\n",
    "\n",
    "print(my_dict['c'])\n",
    "\n",
    "### ValueError:\n",
    "x = \"hello\"\n",
    "\n",
    "y = int(x)"
   ]
  },
  {
   "cell_type": "code",
   "execution_count": 6,
   "id": "7c885178",
   "metadata": {
    "scrolled": true
   },
   "outputs": [
    {
     "name": "stdout",
     "output_type": "stream",
     "text": [
      "Digite o nome: Maria\n",
      "[9.0, 7.0, 6.0]\n",
      "Digite o nome: Marla\n"
     ]
    },
    {
     "ename": "KeyError",
     "evalue": "'Marla'",
     "output_type": "error",
     "traceback": [
      "\u001b[1;31m---------------------------------------------------------------------------\u001b[0m",
      "\u001b[1;31mKeyError\u001b[0m                                  Traceback (most recent call last)",
      "Cell \u001b[1;32mIn[6], line 6\u001b[0m\n\u001b[0;32m      4\u001b[0m \u001b[38;5;28mprint\u001b[39m(resultado)\n\u001b[0;32m      5\u001b[0m nome \u001b[38;5;241m=\u001b[39m \u001b[38;5;28minput\u001b[39m(\u001b[38;5;124m\"\u001b[39m\u001b[38;5;124mDigite o nome: \u001b[39m\u001b[38;5;124m\"\u001b[39m)\n\u001b[1;32m----> 6\u001b[0m resultado \u001b[38;5;241m=\u001b[39m notas[nome]\n\u001b[0;32m      7\u001b[0m \u001b[38;5;28mprint\u001b[39m(resultado)\n",
      "\u001b[1;31mKeyError\u001b[0m: 'Marla'"
     ]
    }
   ],
   "source": [
    "notas = {'João': [8.0, 9.0, 10.0], 'Maria': [9.0, 7.0, 6.0], 'José': [3.4, 7.0, 8.0],'Cláudia': [5.5, 6.6, 8.0], 'Ana': [6.0, 10.0, 9.5], 'Joaquim': [5.5, 7.5, 9.0], 'Júlia': [6.0, 8.0, 7.0], 'Pedro': [3.0, 4.0, 6.0]}\n",
    "nome = input(\"Digite o nome: \")\n",
    "resultado = notas[nome]\n",
    "print(resultado)\n",
    "nome = input(\"Digite o nome: \")\n",
    "resultado = notas[nome]\n",
    "print(resultado)"
   ]
  },
  {
   "cell_type": "code",
   "execution_count": 8,
   "id": "19212465",
   "metadata": {},
   "outputs": [
    {
     "name": "stdout",
     "output_type": "stream",
     "text": [
      "Digite o nome do(a) estudante: João\n",
      "[8.0, 9.0, 10.0]\n"
     ]
    }
   ],
   "source": [
    "notas = {'João': [8.0, 9.0, 10.0], 'Maria': [9.0, 7.0, 6.0], 'José': [3.4, 7.0, 8.0],'Cláudia': [5.5, 6.6, 8.0], 'Ana': [6.0, 10.0, 9.5], 'Joaquim': [5.5, 7.5, 9.0], 'Júlia': [6.0, 8.0, 7.0], 'Pedro': [3.0, 4.0, 6.0]}\n",
    "try:\n",
    "    nome = input(\"Digite o nome do(a) estudante: \")\n",
    "    resultado = notas[nome]\n",
    "except KeyError:\n",
    "    print(\"Estudante não matriculado(a) na turma\")\n",
    "else:\n",
    "    print(resultado)"
   ]
  },
  {
   "cell_type": "markdown",
   "id": "39a71d2c",
   "metadata": {},
   "source": [
    "try é o código que caso haja uma exceção pula para o except\n",
    "\n",
    "else é o código que roda caso o except não rode\n",
    "\n",
    "finaly é o código que roda idependente se foi ou não para o except"
   ]
  },
  {
   "cell_type": "code",
   "execution_count": 10,
   "id": "df736bf9",
   "metadata": {},
   "outputs": [
    {
     "name": "stdout",
     "output_type": "stream",
     "text": [
      "Digite o nome do(a) estudante: Bernardo\n",
      "Estudante não matriculado(a) na turma\n",
      "A consulta foi encerrada!\n"
     ]
    }
   ],
   "source": [
    "notas = {'João': [8.0, 9.0, 10.0], 'Maria': [9.0, 7.0, 6.0], 'José': [3.4, 7.0, 8.0],'Cláudia': [5.5, 6.6, 8.0], 'Ana': [6.0, 10.0, 9.5], 'Joaquim': [5.5, 7.5, 9.0], 'Júlia': [6.0, 8.0, 7.0], 'Pedro': [3.0, 4.0, 6.0]}\n",
    "\n",
    "try:\n",
    "    nome = input(\"Digite o nome do(a) estudante: \")\n",
    "    resultado = notas[nome]\n",
    "except KeyError:\n",
    "    print(\"Estudante não matriculado(a) na turma\")\n",
    "else:\n",
    "    print(resultado)\n",
    "finally:\n",
    "    print(\"A consulta foi encerrada!\")"
   ]
  },
  {
   "cell_type": "markdown",
   "id": "a45356c7",
   "metadata": {},
   "source": [
    "#### Raise"
   ]
  },
  {
   "cell_type": "code",
   "execution_count": 9,
   "id": "ce17126b",
   "metadata": {},
   "outputs": [
    {
     "name": "stdout",
     "output_type": "stream",
     "text": [
      "Não foi possível calcular a média do(a) estudante. Só são aceitos valores numéricos!\n",
      "A consulta foi encerrada!\n"
     ]
    }
   ],
   "source": [
    "def media (lista):\n",
    "    media = sum(lista) / len(lista)\n",
    "    if len(lista) > 4:\n",
    "        raise ValueError(\"A lista não pode possuir mais de 4 notas.\")\n",
    "    return media\n",
    "\n",
    "try:\n",
    "    notas = [6, 7, 8, 9, 1]\n",
    "    resultado = media(notas)\n",
    "except TypeError:\n",
    "    print(\"Não foi possível calcular a média do(a) estudante. Só são aceitos valores numéricos!\")\n",
    "except ValueError as e:\n",
    "    print(e)\n",
    "else:\n",
    "    print(resultado)\n",
    "finally:\n",
    "    print(\"A consulta foi encerrada!\")"
   ]
  }
 ],
 "metadata": {
  "kernelspec": {
   "display_name": "Python 3 (ipykernel)",
   "language": "python",
   "name": "python3"
  },
  "language_info": {
   "codemirror_mode": {
    "name": "ipython",
    "version": 3
   },
   "file_extension": ".py",
   "mimetype": "text/x-python",
   "name": "python",
   "nbconvert_exporter": "python",
   "pygments_lexer": "ipython3",
   "version": "3.11.5"
  }
 },
 "nbformat": 4,
 "nbformat_minor": 5
}
