{
 "cells": [
  {
   "cell_type": "markdown",
   "id": "947f39df",
   "metadata": {},
   "source": [
    "# 01. Bibliotecas"
   ]
  },
  {
   "cell_type": "markdown",
   "id": "dd495a47",
   "metadata": {},
   "source": [
    "## Aquecimento"
   ]
  },
  {
   "cell_type": "code",
   "execution_count": null,
   "id": "9e301de6",
   "metadata": {},
   "outputs": [],
   "source": [
    "#1. Escreva um código para instalar a versão 3.7.1 da biblioteca matplotlib.\n",
    "pip install matplotlib==3.7.1"
   ]
  },
  {
   "cell_type": "code",
   "execution_count": null,
   "id": "13f24076",
   "metadata": {},
   "outputs": [],
   "source": [
    "#2. Escreva um código para importar a biblioteca numpy com o alias np.\n",
    "import numpy as np"
   ]
  },
  {
   "cell_type": "code",
   "execution_count": 1,
   "id": "ffa01033",
   "metadata": {},
   "outputs": [
    {
     "name": "stdout",
     "output_type": "stream",
     "text": [
      "12\n"
     ]
    }
   ],
   "source": [
    "#3. Crie um programa que leia a seguinte lista de números e escolha um número desta aleatoriamente\n",
    "from random import choice\n",
    "\n",
    "lista = [8, 12, 54, 23, 43, 1, 90, 87, 105, 77]\n",
    "print(choice(lista))"
   ]
  },
  {
   "cell_type": "code",
   "execution_count": 2,
   "id": "36118aca",
   "metadata": {},
   "outputs": [
    {
     "name": "stdout",
     "output_type": "stream",
     "text": [
      "93\n"
     ]
    }
   ],
   "source": [
    "#4. Crie um programa que sorteia, aleatoriamente, um número inteiro menor que 100.\n",
    "from random import randrange\n",
    "x = randrange(100)\n",
    "print(x)"
   ]
  },
  {
   "cell_type": "code",
   "execution_count": 4,
   "id": "7cbf36e8",
   "metadata": {},
   "outputs": [
    {
     "name": "stdout",
     "output_type": "stream",
     "text": [
      "Digite um número: 2\n",
      "Digite outro número: 4\n",
      "16.0\n"
     ]
    }
   ],
   "source": [
    "\"\"\"5. Crie um programa que solicite à pessoa usuária digitar dois números inteiros \n",
    "e calcular a potência do 1º número elevado ao 2º.\"\"\"\n",
    "from math import pow\n",
    "n1 = int(input(\"Digite um número: \"))\n",
    "n2 = int(input(\"Digite outro número: \"))\n",
    "\n",
    "print(pow(n1, n2))"
   ]
  },
  {
   "cell_type": "markdown",
   "id": "b586ab61",
   "metadata": {},
   "source": [
    "## Aplicando a projetos"
   ]
  },
  {
   "cell_type": "code",
   "execution_count": 4,
   "id": "faca7ab6",
   "metadata": {},
   "outputs": [
    {
     "name": "stdout",
     "output_type": "stream",
     "text": [
      "Digite o número de participantes: 100\n",
      "ganhador: 76\n"
     ]
    }
   ],
   "source": [
    "\"\"\"6. Um programa deve ser escrito para sortear uma pessoa seguidora \n",
    "de uma rede social para ganhar um prêmio. A lista de participantes \n",
    "é numerada e devemos escolher aleatoriamente um número de acordo \n",
    "com a quantidade de participantes. Peça à pessoa usuária para fornecer \n",
    "o número de participantes do sorteio e devolva para ela o número sorteado.\"\"\"\n",
    "from random import randrange\n",
    "n = int(input(\"Digite o número de participantes: \"))\n",
    "x = randrange(n)\n",
    "print(f\"ganhador: {x}\")"
   ]
  },
  {
   "cell_type": "code",
   "execution_count": 60,
   "id": "079990cc",
   "metadata": {},
   "outputs": [
    {
     "name": "stdout",
     "output_type": "stream",
     "text": [
      "Digite seu nome: Pedro\n",
      "Olá, Pedro, o seu token de acesso é 5742! Seja bem-vindo(a)!\n"
     ]
    }
   ],
   "source": [
    "\"\"\"7. Você recebeu uma demanda para gerar números de token para acessar \n",
    "o aplicativo de uma empresa. O token precisa ser par e variar de 1000 até 9999. \n",
    "Escreva um código que solicita à pessoa usuária o seu nome e exibe uma mensagem \n",
    "junto a esse token gerado aleatoriamente.\n",
    "\n",
    "\"Olá, [nome], o seu token de acesso é [token]! Seja bem-vindo(a)!\" \"\"\"\n",
    "from random import randrange\n",
    "x = randrange(1000, 10000, 2)\n",
    "nome = input(\"Digite seu nome: \")\n",
    "print(f\"Olá, {nome}, o seu token de acesso é {x}! Seja bem-vindo(a)!\")"
   ]
  },
  {
   "cell_type": "code",
   "execution_count": 34,
   "id": "f8bb0c32",
   "metadata": {},
   "outputs": [
    {
     "name": "stdout",
     "output_type": "stream",
     "text": [
      "['uva', 'mamão', 'pêra']\n"
     ]
    }
   ],
   "source": [
    "\"\"\"8. Para diversificar e atrair novos(as) clientes, \n",
    "uma lanchonete criou um item misterioso em seu cardápio \n",
    "chamado \"salada de frutas surpresa\". Neste item, são escolhidas \n",
    "aleatoriamente 3 frutas de uma lista de 12 para compor a \n",
    "salada de frutas da pessoa cliente. Crie o código que faça \n",
    "essa seleção aleatória de acordo com a lista abaixo:\"\"\"\n",
    "from random import sample\n",
    "frutas = [\"maçã\", \"banana\", \"uva\", \"pêra\", \n",
    "          \"manga\", \"coco\", \"melancia\", \"mamão\",\n",
    "          \"laranja\", \"abacaxi\", \"kiwi\", \"ameixa\"]\n",
    "surpresa = sample(frutas, 3)\n",
    "print(surpresa)"
   ]
  },
  {
   "cell_type": "code",
   "execution_count": 48,
   "id": "240bfa93",
   "metadata": {},
   "outputs": [
    {
     "name": "stdout",
     "output_type": "stream",
     "text": [
      "[]\n"
     ]
    }
   ],
   "source": [
    "\"\"\"9. Você recebeu um desafio de calcular a raiz quadrada \n",
    "de uma lista de números, identificando quais resultaram \n",
    "em um número inteiro. A lista é a seguinte:\"\"\"\n",
    "from math import sqrt\n",
    "numeros = [2, 8, 15, 23, 91, 112, 256]\n",
    "x = []\n",
    "for i in numeros:\n",
    "    if isinstance(sqrt(i), int):\n",
    "        x.append(i)\n",
    "print(x)"
   ]
  },
  {
   "cell_type": "code",
   "execution_count": 58,
   "id": "d9a028a7",
   "metadata": {
    "scrolled": true
   },
   "outputs": [
    {
     "name": "stdout",
     "output_type": "stream",
     "text": [
      "Digite o raio da área: 2\n",
      "Valor: 314.16\n"
     ]
    }
   ],
   "source": [
    "\"\"\"10. Faça um programa para uma loja que vende grama \n",
    "para jardins. Essa loja trabalha com jardins circulares \n",
    "e o preço do metro quadrado da grama é de R$ 25,00. \n",
    "Peça à pessoa usuária o raio da área circular \n",
    "e devolva o valor em reais do quanto precisará pagar.\"\"\"\n",
    "from math import pi, pow\n",
    "raio = float(input(\"Digite o raio da área: \"))\n",
    "# pi*r2\n",
    "preco = 25\n",
    "area = pi*pow(raio, 2)\n",
    "valor = area*preco\n",
    "print(\"Valor: {:.2f}\".format(valor))"
   ]
  },
  {
   "cell_type": "markdown",
   "id": "76a33389",
   "metadata": {},
   "source": [
    "# 02. Funções"
   ]
  },
  {
   "cell_type": "markdown",
   "id": "7a8bd281",
   "metadata": {},
   "source": [
    "## Aquecimento"
   ]
  },
  {
   "cell_type": "code",
   "execution_count": 61,
   "id": "4dec7f30",
   "metadata": {},
   "outputs": [
    {
     "name": "stdout",
     "output_type": "stream",
     "text": [
      "A lista possui 17 números em que o maior número é 99 e o menor número é 11. A soma dos valores presentes nela é igual a 743\n"
     ]
    }
   ],
   "source": [
    "# 1. Escreva um código que lê a lista abaixo e faça:\n",
    "lista = [16, 14, 63, 65, 17, 99, 70, 11, 20, 48, 79, 32, 17, 89, 12, 25, 66]\n",
    "\"\"\"\n",
    "A leitura do tamanho da lista\n",
    "A leitura do maior e menor valor\n",
    "A soma dos valores da lista\n",
    "Ao final exiba uma mensagem dizendo:\n",
    "\"A lista possui [tam] números em que o maior número é [maior] \n",
    "e o menor número é [menor]. A soma dos valores presentes nela é igual a [soma]\"\n",
    "\"\"\"\n",
    "tam = len(lista)\n",
    "maior = max(lista)\n",
    "menor = min(lista)\n",
    "soma = sum(lista)\n",
    "print(f\"A lista possui {tam} números em que o maior número é {maior} e o menor número é {menor}. A soma dos valores presentes nela é igual a {soma}\")"
   ]
  },
  {
   "cell_type": "code",
   "execution_count": 2,
   "id": "afed997d",
   "metadata": {},
   "outputs": [
    {
     "name": "stdout",
     "output_type": "stream",
     "text": [
      "Digite um número: 3\n",
      "3 x 0 = 0\n",
      "3 x 1 = 3\n",
      "3 x 2 = 6\n",
      "3 x 3 = 9\n",
      "3 x 4 = 12\n",
      "3 x 5 = 15\n",
      "3 x 6 = 18\n",
      "3 x 7 = 21\n",
      "3 x 8 = 24\n",
      "3 x 9 = 27\n",
      "3 x 10 = 30\n"
     ]
    }
   ],
   "source": [
    "\"\"\"\n",
    "2. Escreva uma função que gere a tabuada de um número inteiro de 1 a 10, \n",
    "de acordo com a escolha da pessoa usuária. \n",
    "Como exemplo, para o número 7, a tabuada deve ser mostrada no seguinte formato:\n",
    "Tabuada do 7:\n",
    "7 x 0 = 0\n",
    "7 x 1 = 7\n",
    "[...]\n",
    "7 x 10 = 70\n",
    "\"\"\"\n",
    "n = int(input(\"Digite um número: \"))\n",
    "def tabuada (x):\n",
    "    for i in range (11):\n",
    "        print(f\"{n} x {i} = {n*i}\")\n",
    "tabuada(n)\n"
   ]
  },
  {
   "cell_type": "code",
   "execution_count": 1,
   "id": "29142e72",
   "metadata": {},
   "outputs": [
    {
     "name": "stdout",
     "output_type": "stream",
     "text": [
      "[24, 99]\n"
     ]
    }
   ],
   "source": [
    "# 3. Crie a função que leia a lista abaixo e retorne uma nova lista com os múltiplos de 3:\n",
    "lista = [97, 80, 94, 88, 80, 1, 16, 53, 62, 32, 24, 99]\n",
    "lista2 = []\n",
    "def m3 (lista, lista_nova):\n",
    "    for i in lista:\n",
    "        if i % 3 == 0:\n",
    "            lista_nova.append(i)\n",
    "m3(lista, lista2)\n",
    "print(lista2)"
   ]
  },
  {
   "cell_type": "code",
   "execution_count": 64,
   "id": "42816c53",
   "metadata": {},
   "outputs": [
    {
     "name": "stdout",
     "output_type": "stream",
     "text": [
      "[1, 4, 9, 16, 25, 36, 49, 64, 81, 100]\n"
     ]
    }
   ],
   "source": [
    "\"\"\"\n",
    "4. Crie uma lista dos quadrados dos números da seguinte lista [1, 2, 3, 4, 5, 6, 7, 8, 9, 10]. \n",
    "Lembre-se de utilizar as funções lambda e map() para calcular o quadrado de cada elemento da lista.\n",
    "\"\"\"\n",
    "lista = [1, 2, 3, 4, 5, 6, 7, 8, 9, 10]\n",
    "lista2 = list(map(lambda x: x*x, lista))\n",
    "print(lista2)"
   ]
  },
  {
   "cell_type": "markdown",
   "id": "433af8b7",
   "metadata": {},
   "source": [
    " ## Aplicando a projetos"
   ]
  },
  {
   "cell_type": "code",
   "execution_count": 67,
   "id": "361ee744",
   "metadata": {},
   "outputs": [
    {
     "name": "stdout",
     "output_type": "stream",
     "text": [
      "Digite a nota: 15\n",
      "Digite a nota: 1\n",
      "Digite a nota: 4\n",
      "Digite a nota: 5\n",
      "Digite a nota: 6\n",
      "Nota da manobra: 5.00\n"
     ]
    }
   ],
   "source": [
    "\"\"\"\n",
    "5. Você foi contratado(a) como cientista de dados de uma associação de skate. \n",
    "Para analisar as notas recebidas de skatistas em algumas \n",
    "competições ao longo do ano, você precisa criar um código que calcula \n",
    "a pontuação dos(as) atletas. Para isso, o seu código deve receber 5 notas \n",
    "digitadas pelas pessoas juradas.\n",
    "\n",
    "Para calcular a pontuação de um(a) skatista, você precisa eliminar a maior \n",
    "e a menor pontuação dentre as 5 notas e tirar a média das 3 notas que sobraram. \n",
    "Retorne a média para apresentar o texto:\n",
    "\n",
    "\"Nota da manobra: [media]\"\n",
    "\"\"\"\n",
    "lista = []\n",
    "for i in range (5):\n",
    "    lista.append(float(input(\"Digite a nota: \")))\n",
    "lista.remove(max(lista))\n",
    "lista.remove(min(lista))\n",
    "media = sum(lista) / len(lista)\n",
    "print(f\"Nota da manobra: {round(media, 1)}\")"
   ]
  },
  {
   "cell_type": "code",
   "execution_count": 4,
   "id": "8f74a72b",
   "metadata": {},
   "outputs": [
    {
     "name": "stdout",
     "output_type": "stream",
     "text": [
      "Digite a nota: 10\n",
      "Digite a nota: 5\n",
      "Digite a nota: 6\n",
      "Digite a nota: 4\n",
      "O(a) estudante obteve uma média de 6.25, com a sua maior nota de 10.0 pontos e a menor nota de 4.0 pontos e foi Reprovado\n"
     ]
    }
   ],
   "source": [
    "\"\"\"\n",
    "6. Para atender a uma demanda de uma instituição de ensino \n",
    "para a análise do desempenho de seus(suas) estudantes, \n",
    "você precisa criar uma função que receba uma lista de 4 notas e retorne:\n",
    "\n",
    "maior nota\n",
    "menor nota\n",
    "média\n",
    "situação (Aprovado(a) ou Reprovado(a))\n",
    "Para testar o comportamento da função, os dados podem ser exibidos em um texto:\n",
    "\"O(a) estudante obteve uma média de [media], com a sua maior nota de [maior] pontos e a \n",
    "menor nota de [menor] pontos e foi [situacao]\"\n",
    "\"\"\"\n",
    "notas = []\n",
    "def resultado (lista):\n",
    "    for i in range (0, 4):\n",
    "        lista.append(float(input(\"Digite a nota: \")))\n",
    "    maior = max(lista)\n",
    "    menor = min(lista)\n",
    "    media = sum(lista) / len(lista)\n",
    "    if media >= 7:\n",
    "        situacao = \"Aprovado\"\n",
    "    else:\n",
    "        situacao = \"Reprovado\"\n",
    "    print(f\"O(a) estudante obteve uma média de {media}, com a sua maior nota de {maior} pontos e a menor nota de {menor} pontos e foi {situacao}\")\n",
    "resultado(notas)"
   ]
  },
  {
   "cell_type": "code",
   "execution_count": 11,
   "id": "de55bd3d",
   "metadata": {},
   "outputs": [
    {
     "name": "stdout",
     "output_type": "stream",
     "text": [
      "['João Silva', 'Maria Souza', 'José Tavares']\n"
     ]
    }
   ],
   "source": [
    "\"\"\"\n",
    "7. Você recebeu uma demanda para tratar 2 listas com os nomes \n",
    "e sobrenomes de cada estudante concatenando-as para apresentar \n",
    "seus nomes completos na forma Nome Sobrenome. As listas são:\n",
    "nomes = [\"joão\", \"MaRia\", \"JOSÉ\"]\n",
    "sobrenomes = [\"SILVA\", \"souza\", \"Tavares\"]\n",
    "O texto exibido ao fim deve ser parecido com:\n",
    "\"Nome completo: Ana Silva\"\n",
    "\"\"\"\n",
    "nomes = [\"joão\", \"MaRia\", \"JOSÉ\"]\n",
    "sobrenomes = [\"SILVA\", \"souza\", \"Tavares\"]\n",
    "lista = list(map(lambda x, y: x.capitalize() + \" \" + y.capitalize(), nomes, sobrenomes))\n",
    "print(lista)"
   ]
  },
  {
   "cell_type": "code",
   "execution_count": 28,
   "id": "bbd0e0fa",
   "metadata": {},
   "outputs": [
    {
     "name": "stdout",
     "output_type": "stream",
     "text": [
      "A pontuação do time foi de 7 e seu aproveitamento foi de 46.67%\n"
     ]
    }
   ],
   "source": [
    "\"\"\"\n",
    "8. Como cientista de dados em um time de futebol, você precisa implementar novas \n",
    "formas de coleta de dados sobre o desempenho de jogadores e do time como um todo. \n",
    "Sua primeira ação é criar uma forma de calcular a pontuação do time no campeonato \n",
    "nacional a partir dos dados de gols marcados e sofridos em cada jogo.\n",
    "\n",
    "Escreva uma função chamada calcula_pontos que recebe como parâmetros duas listas de \n",
    "números inteiros, representando os gols marcados e sofridos pelo time em cada partida do campeonato.\n",
    "A função deve retornar a pontuação do time e o aproveitamento em percentual, \n",
    "levando em consideração que a vitória vale 3 pontos, o empate vale 1 ponto e a derrota 0 pontos.\n",
    "\n",
    "Observação: se a quantidade de gols marcados numa partida for maior que a de sofridos, \n",
    "o time venceu. Caso seja igual, o time empatou e se for menor, o time perdeu. \n",
    "Para calcular o aproveitamento devemos fazer a razão entre a pontuação do time pela \n",
    "pontuação máxima que ele poderia receber.\n",
    "\n",
    "Para teste, utilize as seguintes listas de gols marcados e sofridos:\n",
    "gols_marcados = [2, 1, 3, 1, 0]\n",
    "gols_sofridos = [1, 2, 2, 1, 3]\n",
    "Provável texto exibido:\n",
    "\"A pontuação do time foi de [pontos] e seu aproveitamento foi de [aprov]%\"\n",
    "\"\"\" # pontuação feita / pontuação máxima\n",
    "gols_marcados = [2, 1, 3, 1, 0]\n",
    "gols_sofridos = [1, 2, 2, 1, 3]\n",
    "\n",
    "def calcula_pontos(lista1, lista2):\n",
    "    pontos = 0\n",
    "    for n in range(len(lista1)):\n",
    "        if lista1[n] > lista2[n]:\n",
    "            pontos += 3\n",
    "        elif lista1[n] == lista2[n]:\n",
    "            pontos += 1\n",
    "    print(\"A pontuação do time foi de {} e seu aproveitamento foi de {:.2f}%\".format(pontos, (100*pontos) / (3*len(lista1))))\n",
    "calcula_pontos(gols_marcados, gols_sofridos)"
   ]
  },
  {
   "cell_type": "code",
   "execution_count": 37,
   "id": "febcbfa9",
   "metadata": {},
   "outputs": [
    {
     "name": "stdout",
     "output_type": "stream",
     "text": [
      "Digite o nome do local (Salvador, Fortaleza, Natal e Aracaju.):Salvador\n",
      "Digite quantos dias você vai ficar: 3\n",
      "Com base nos gastos definidos, uma viagem de 3 dias para Salvador saindo de Recife custaria 1257.14 reais\n"
     ]
    }
   ],
   "source": [
    "\"\"\"\n",
    "9. Você recebeu o desafio de criar um código que calcula os gastos de uma \n",
    "viagem para um das quatro cidades partindo de Recife, sendo elas: Salvador, Fortaleza, Natal e Aracaju.\n",
    "\n",
    "O custo da diária do hotel é de 150 reais em todas elas e o consumo \n",
    "de gasolina na viagem de carro é de 14 km/l, sendo que o valor da \n",
    "gasolina é de 5 reais o litro. O gastos com passeios e alimentação \n",
    "a se fazer em cada uma delas por dia seria de [200, 400, 250, 300], respectivamente.\n",
    "\n",
    "Sabendo que as distâncias entre Recife e cada uma das cidades \n",
    "é de aproximadamente [850, 800, 300, 550] km, crie três funções \n",
    "nas quais: a 1ª função calcule os gastos com hotel (gasto_hotel), \n",
    "a 2ª calcule os gastos com a gasolina (gasto_gasolina) e a 3ª os gastos com passeio e alimentação (gasto_passeio).\n",
    "\n",
    "Para testar, simule uma viagem de 3 dias para Salvador partindo de Recife. Considere a viagem de ida e volta de carro.\n",
    "\n",
    "\"Com base nos gastos definidos, uma viagem de [dias] dias para [cidade] saindo de Recife custaria [gastos] reais\"\n",
    "\"\"\" #1 função gasto com hotel (gasto_hotel)/ 2 função gasolina (gasto_gasolina) / 3 função passeio alimentação (gasto_passeio) \n",
    "#diária 150 / 14 km por litro / 5 reais o litro /passeio e alimentação [200, 400, 250, 300] / distância [850, 800, 300, 550]\n",
    "dist = [850, 800, 300, 550]\n",
    "pa = [200, 400, 250, 300]\n",
    "gasto = 0\n",
    "cidade = input(\"Digite o nome do local (Salvador, Fortaleza, Natal e Aracaju.) :\")\n",
    "if cidade == \"Salvador\":\n",
    "    local = 1\n",
    "elif cidade == \"Fortaleza\":\n",
    "    local = 2\n",
    "elif cidade == \"Natal\":\n",
    "    local = 3\n",
    "elif cidade == \"Aracaju\":\n",
    "    local = 4\n",
    "dias = int(input(\"Digite quantos dias você vai ficar: \"))\n",
    "def gasto_hotel (y):\n",
    "    global gasto\n",
    "    gasto += y * 150\n",
    "def gasto_gasolina (x):\n",
    "    global gasto\n",
    "    if x == \"Salvador\":\n",
    "        gasto += ((850 * 5) / 14)*2\n",
    "    elif x == \"Fortaleza\":\n",
    "        gasto += ((800 * 5) / 14)*2\n",
    "    elif x == \"Natal\":\n",
    "        gasto += ((300 * 5) / 14)*2\n",
    "    else:\n",
    "        gasto += ((550 * 5) / 14)*2\n",
    "def gasto_passeio (z):\n",
    "    global gasto\n",
    "    if z == \"Salvador\":\n",
    "        gasto += 200\n",
    "    elif z == \"Fortaleza\":\n",
    "        gasto += 400\n",
    "    elif z == \"Natal\":\n",
    "        gasto += 250\n",
    "    else:\n",
    "        gasto += 300\n",
    "\n",
    "gasto_hotel(dias)\n",
    "gasto_gasolina(cidade)\n",
    "gasto_passeio(cidade)\n",
    "\n",
    "\n",
    "print(\"Com base nos gastos definidos, uma viagem de {} dias para {} saindo de Recife custaria {:.2f} reais\".format(dias, cidade, gasto))"
   ]
  },
  {
   "cell_type": "code",
   "execution_count": 36,
   "id": "b73a2f51",
   "metadata": {},
   "outputs": [
    {
     "name": "stdout",
     "output_type": "stream",
     "text": [
      "Digite sua frase: Eu amo o vasco da gama!\n",
      "['vasco']\n"
     ]
    }
   ],
   "source": [
    "\"\"\"\n",
    "10. Você iniciou um estágio em uma empresa que trabalha com \n",
    "processamento de linguagem natural (NLP). Sua líder requisitou \n",
    "que você criasse um trecho de código que recebe uma frase \n",
    "digitada pela pessoa usuária e filtre apenas as palavras com \n",
    "tamanho maior ou igual a 5, exibindo-as em uma lista. \n",
    "Essa demanda é voltada para a análise do padrão de comportamento \n",
    "de pessoas na escrita de palavras acima dessa quantidade de caracteres.\n",
    "\n",
    "Dica: utilize as funções lambda e filter() para filtrar essas palavras. \n",
    "Lembrando que a função embutida filter() recebe uma função \n",
    "(no nosso exemplo uma função lambda) e filtra um iterável de acordo com a função. \n",
    "Para tratar a frase use replace() para trocar a ',' '.', '!' e '?' por espaço.\n",
    "\n",
    "Use a frase \"Aprender Python aqui na Alura é muito bom\" para testar o código.\n",
    "\"\"\"\n",
    "frase = input(\"Digite sua frase: \")\n",
    "frase = frase.replace(',', '').replace('.', '').replace('!', '').replace('?', '')\n",
    "\n",
    "palavrasMais5 = list(filter(lambda x: len(x)>= 5, frase.split()))\n",
    "#filter deixa apenas passar o que for verdadeiro\n",
    "#.split() separa as palavras por espaço e coloca em array separadamente\n",
    "print(palavrasMais5)"
   ]
  },
  {
   "cell_type": "markdown",
   "id": "fb9b5475",
   "metadata": {},
   "source": [
    "# 03. Estruturas de Dados\n",
    "## Aquecimento"
   ]
  },
  {
   "cell_type": "code",
   "execution_count": 5,
   "id": "2756b2a0",
   "metadata": {},
   "outputs": [
    {
     "name": "stdout",
     "output_type": "stream",
     "text": [
      "[24, 10, 16]\n"
     ]
    }
   ],
   "source": [
    "# 1. Crie um código para imprimir a soma dos elementos de cada uma das listas contidas na seguinte lista:\n",
    "lista_de_listas = [[4,6,5,9], [1,0,7,2], [3,4,1,8]]\n",
    "somas = [sum(i) for i in lista_de_listas]\n",
    "print(somas)"
   ]
  },
  {
   "cell_type": "code",
   "execution_count": 8,
   "id": "f2f84b46",
   "metadata": {},
   "outputs": [
    {
     "name": "stdout",
     "output_type": "stream",
     "text": [
      "[81, 67, 83]\n"
     ]
    }
   ],
   "source": [
    "#2. Crie um código para gerar uma lista que armazena o terceiro elemento de cada tupla contida na seguinte lista de tuplas:\n",
    "lista_de_tuplas = [('Pedro', 1.74, 81), ('Júlia', 1.65, 67), ('Otávio', 1.81, 83)]\n",
    "lista3 = [i[2] for i in lista_de_tuplas]\n",
    "print(lista3)"
   ]
  },
  {
   "cell_type": "code",
   "execution_count": 16,
   "id": "eb2b75ea",
   "metadata": {},
   "outputs": [
    {
     "name": "stdout",
     "output_type": "stream",
     "text": [
      "[('P', 'Pedro'), ('J', 'Júlia'), ('O', 'Otávio'), ('E', 'Eduardo')]\n"
     ]
    }
   ],
   "source": [
    "\"\"\"\n",
    "3. A partir da lista: lista = ['Pedro', 'Júlia', 'Otávio', 'Eduardo'], \n",
    "crie um código para gerar uma lista de tuplas em que cada \n",
    "tupla tenha o primeiro elemento como a posição do nome \n",
    "na lista original e o segundo elemento sendo o próprio nome.\n",
    "\"\"\"\n",
    "lista = ['Pedro', 'Júlia', 'Otávio', 'Eduardo']\n",
    "lista2 = [(i[0], i) for i in lista]\n",
    "print(lista2)"
   ]
  },
  {
   "cell_type": "code",
   "execution_count": 21,
   "id": "8f05cd7d",
   "metadata": {},
   "outputs": [
    {
     "name": "stdout",
     "output_type": "stream",
     "text": [
      "[1700, 1400, 1900]\n"
     ]
    }
   ],
   "source": [
    "\"\"\"\n",
    "4. Crie uma lista usando o list comprehension que armazena \n",
    "somente o valor numérico de cada tupla caso o primeiro \n",
    "elemento seja 'Apartamento', a partir da seguinte lista de tuplas:\n",
    "\"\"\"\n",
    "aluguel = [('Apartamento', 1700), ('Apartamento', 1400), ('Casa', 2150), ('Apartamento', 1900), ('Casa', 1100)]\n",
    "lista = [i[1] for i in aluguel if i[0] == 'Apartamento']\n",
    "print(lista)"
   ]
  },
  {
   "cell_type": "code",
   "execution_count": 25,
   "id": "93fc8dd6",
   "metadata": {},
   "outputs": [
    {
     "name": "stdout",
     "output_type": "stream",
     "text": [
      "{'Jan': 860, 'Fev': 490, 'Mar': 1010, 'Abr': 780, 'Mai': 900, 'Jun': 630, 'Jul': 590, 'Ago': 770, 'Set': 620, 'Out': 560, 'Nov': 840, 'Dez': 360}\n"
     ]
    }
   ],
   "source": [
    "\"\"\"\n",
    "5. Crie um dicionário usando o dict comprehension \n",
    "em que as chaves estão na lista \n",
    "meses = ['Jan', 'Fev', 'Mar', 'Abr', 'Mai', 'Jun', 'Jul', 'Ago', 'Set', 'Out', 'Nov', 'Dez'] \n",
    "e os valores estão em despesa = [860, 490, 1010, 780, 900, 630, 590, 770, 620, 560, 840, 360].\n",
    "\"\"\"\n",
    "meses = ['Jan', 'Fev', 'Mar', 'Abr', 'Mai', 'Jun', 'Jul', 'Ago', 'Set', 'Out', 'Nov', 'Dez']\n",
    "despesa = [860, 490, 1010, 780, 900, 630, 590, 770, 620, 560, 840, 360]\n",
    "meses_valores = {meses[i]: despesa[i] for i in range(len(meses))}\n",
    "print(meses_valores)"
   ]
  },
  {
   "cell_type": "markdown",
   "id": "dc69a1e7",
   "metadata": {},
   "source": [
    "## Aplicando a projetos"
   ]
  },
  {
   "cell_type": "code",
   "execution_count": 5,
   "id": "28ac8259",
   "metadata": {},
   "outputs": [
    {
     "name": "stdout",
     "output_type": "stream",
     "text": [
      "[8883, 7688, 9544, 8190]\n"
     ]
    }
   ],
   "source": [
    "\"\"\"\n",
    "6. Uma loja possui um banco de dados com a informação \n",
    "de venda de cada representante e de cada ano e precisa \n",
    "filtrar somente os dados do ano 2022 com venda maior do que 6000. \n",
    "A loja forneceu uma amostra contendo apenas as colunas com os \n",
    "anos e os valores de venda para que você ajude a realizar a \n",
    "filtragem dos dados a partir de um código:\n",
    "\"\"\"\n",
    "vendas = [('2023', 4093), ('2021', 4320), ('2021', 5959), ('2022', 8883), ('2023', 9859), ('2022', 5141), ('2022', 7688), ('2022', 9544), ('2023', 4794), ('2021', 7178), ('2022', 3030), ('2021', 7471), ('2022', 4226), ('2022', 8190), ('2021', 9680), ('2022', 5616)]\n",
    "# Crie uma lista usando list comprehension para filtrar os valores de 2022 e que sejam maiores que 6000.\n",
    "vendas2 = [i[1] for i in vendas if i[0] == '2022' and i[1] > 6000]\n",
    "print(vendas2)"
   ]
  },
  {
   "cell_type": "code",
   "execution_count": 88,
   "id": "d26b98c2",
   "metadata": {},
   "outputs": [
    {
     "name": "stdout",
     "output_type": "stream",
     "text": [
      "[('Diabetes', 129), ('Normal', 82), ('Hipoglicemia', 60), ('Normal', 97), ('Alterada', 101), ('Hipoglicemia', 65), ('Hipoglicemia', 62), ('Diabetes', 167), ('Normal', 87), ('Hipoglicemia', 53), ('Hipoglicemia', 58), ('Normal', 92), ('Hipoglicemia', 66), ('Alterada', 120), ('Alterada', 109), ('Hipoglicemia', 62), ('Normal', 86), ('Normal', 96), ('Alterada', 103), ('Normal', 88), ('Diabetes', 155), ('Hipoglicemia', 52), ('Normal', 89), ('Normal', 73)]\n"
     ]
    }
   ],
   "source": [
    "\"\"\"\n",
    "7. Uma clínica analisa dados de pacientes e armazena o valor \n",
    "numérico da glicose em um banco de dados e gostaria de rotular os dados da seguinte maneira:\n",
    "\n",
    "Glicose igual ou inferior a 70: 'Hipoglicemia'\n",
    "Glicose entre 70 a 99: 'Normal'\n",
    "Glicose entre 100 e 125: 'Alterada'\n",
    "Glicose superior a 125: 'Diabetes'\n",
    "A clínica disponibilizou parte dos valores e sua tarefa é \n",
    "criar uma lista de tuplas usando list comprehension contendo o rótulo e o valor da glicemia em cada tupla.\n",
    "\"\"\"\n",
    "glicemia = [129, 82, 60, 97, 101, 65, 62, 167, 87, 53, 58, 92, 66, 120, 109, 62, 86, 96, 103, 88, 155, 52, 89, 73]\n",
    "rotulos = ['Hipoglicemia', 'Normal', 'Alterada', 'Diabetes']\n",
    "tuplas = [(rotulos[0], i) if i <= 70 else (rotulos[1], i) if i <=99 else (rotulos[2], i) if i <= 125 else (rotulos[3], i) for i in glicemia]\n",
    "print(tuplas)"
   ]
  },
  {
   "cell_type": "code",
   "execution_count": 57,
   "id": "ebad3922",
   "metadata": {},
   "outputs": [
    {
     "name": "stdout",
     "output_type": "stream",
     "text": [
      "{'id': (0, 1, 2, 3, 4, 5, 6, 7, 8, 9), 'quantidade': (15, 12, 1, 15, 2, 11, 2, 12, 2, 4), 'preco': (93.0, 102.0, 18.0, 41.0, 122.0, 14.0, 71.0, 48.0, 14.0, 144.0), 'total': (1395.0, 1224.0, 18.0, 615.0, 244.0, 154.0, 142.0, 576.0, 28.0, 576.0)}\n"
     ]
    }
   ],
   "source": [
    "\"\"\"\n",
    "8. Um e-commerce possui as informações de id de venda, \n",
    "quantidade vendida e preço do produto divididos nas seguintes listas:\n",
    "\"\"\"\n",
    "id = [0, 1, 2, 3, 4, 5, 6, 7, 8, 9]\n",
    "quantidade = [15, 12, 1, 15, 2, 11, 2, 12, 2, 4]\n",
    "preco = [93.0, 102.0, 18.0, 41.0, 122.0, 14.0, 71.0, 48.0, 14.0, 144.0]\n",
    "\"\"\"\n",
    "O e-commerce precisa estruturar esses dados em uma tabela \n",
    "contendo o valor total da venda, que é obtida multiplicando \n",
    "a quantidade pelo preço unitário. Além disso, a tabela \n",
    "precisa conter um cabeçalho indicando as colunas: 'id', 'quantidade', 'preco' e 'total'.\n",
    "\n",
    "Crie uma lista de tuplas em que cada tupla tenha id, \n",
    "quantidade, preço e valor total, na qual a primeira \n",
    "tupla é o cabeçalho da tabela.\n",
    "\"\"\"\n",
    "total = list(map(lambda x, y: x*y, quantidade, preco))\n",
    "lista2 = list(zip(id, quantidade, preco, total))\n",
    "lista2 = list(zip(*lista2))\n",
    "cabecalho = ['id', 'quantidade', 'preco', 'total']\n",
    "catalogo = {cabecalho[i]: lista2[i] for i in range(len(cabecalho))}\n",
    "print(catalogo)"
   ]
  },
  {
   "cell_type": "code",
   "execution_count": 65,
   "id": "e98f8be5",
   "metadata": {},
   "outputs": [
    {
     "name": "stdout",
     "output_type": "stream",
     "text": [
      "{'MG': 7, 'ES': 6, 'RJ': 2, 'SP': 8}\n"
     ]
    }
   ],
   "source": [
    "\"\"\"\n",
    "9. Uma empresa possui filiais espalhadas nos Estados da região \n",
    "Sudeste do Brasil. Em uma das tabelas de cadastro das filiais \n",
    "há uma coluna contendo a informação de qual é o Estado a que pertence: \n",
    "estados = ['SP', 'ES', 'MG', 'MG', 'SP', 'MG', 'ES', 'ES', 'ES', 'SP', 'SP', 'MG', 'ES', 'SP', 'RJ', 'MG', 'RJ', 'SP', 'MG', 'SP', 'ES', 'SP', 'MG'].\n",
    "\n",
    "A empresa sempre está abrindo novas filiais, de modo que a \n",
    "tabela está constantemente recebendo novos registros e o gestor \n",
    "gostaria de possuir a informação atualizada da quantidade de filiais em cada Estado.\n",
    "\n",
    "A partir da coluna com a informação dos Estados, crie um dicionário \n",
    "usando dict comprehension com a chave sendo o nome de um Estado e o \n",
    "valor sendo a contagem de vezes em que o Estado aparece na lista.\n",
    "\"\"\"\n",
    "\n",
    "estados = ['SP', 'ES', 'MG', 'MG', 'SP', 'MG', 'ES', 'ES', 'ES', 'SP', 'SP', 'MG', 'ES', 'SP', 'RJ', 'MG', 'RJ', 'SP', 'MG', 'SP', 'ES', 'SP', 'MG']\n",
    "\n",
    "estados_unicos = list(set(estados))\n",
    "lista_de_listas = []\n",
    "for i in estados_unicos:\n",
    "    lista = [j for j in estados if j == i]\n",
    "    lista_de_listas.append(lista)\n",
    "lista_qtd = [len(i) for i in lista_de_listas]\n",
    "\n",
    "dicionario = {estado: n for estado, n in zip(estados_unicos, lista_qtd)}\n",
    "print(dicionario)"
   ]
  },
  {
   "cell_type": "code",
   "execution_count": 84,
   "id": "173be884",
   "metadata": {},
   "outputs": [
    {
     "name": "stdout",
     "output_type": "stream",
     "text": [
      "{'MG': [9, 6, 4, 8, 5, 10, 12], 'ES': [8, 9, 7, 12, 8, 14], 'RJ': [13, 9], 'SP': [16, 10, 7, 11, 9, 12, 7, 10]}\n",
      "{'MG': 54, 'ES': 58, 'RJ': 22, 'SP': 82}\n"
     ]
    }
   ],
   "source": [
    "\"\"\"\n",
    "10. Nessa mesma tabela de cadastro de filiais, há uma \n",
    "coluna com as informações da quantidade de pessoas \n",
    "colaboradoras e o(a) gestor(a) gostaria de ter um agrupamento \n",
    "da soma dessas pessoas para cada estado. As informações contidas na tabela são:\n",
    "\"\"\"\n",
    "funcionarios = [('SP', 16), ('ES', 8), ('MG', 9), ('MG', 6), ('SP', 10), ('MG', 4), ('ES',9), ('ES', 7), ('ES', 12), ('SP', 7), ('SP', 11), ('MG',8), ('ES',8), ('SP',9), ('RJ', 13), ('MG', 5), ('RJ', 9), ('SP', 12), ('MG', 10), ('SP', 7), ('ES', 14), ('SP', 10), ('MG', 12)]\n",
    "\"\"\"\n",
    "A partir da lista de tuplas, crie um dicionário em que as \n",
    "chaves são os nomes dos Estados únicos e os valores são as \n",
    "listas com o número de colaboradores(as) referentes ao Estado. \n",
    "Crie também um dicionário em que as chaves são os nomes dos \n",
    "Estados e os valores são a soma de colaboradores(as) por Estado.\n",
    "\"\"\"\n",
    "f2 = list(zip(*funcionarios))\n",
    "f3 = list(set(f2[0]))\n",
    "f4 = []\n",
    "for i in f3:\n",
    "    f5 = [funcionarios[j][1] for j in range(len(funcionarios)) if funcionarios[j][0] == i]\n",
    "    f4.append(f5)\n",
    "dicionario = {f3[i]: f4[i] for i in range(len(f4))}\n",
    "print(dicionario)\n",
    "\n",
    "dicionario2 = {f3[i]: sum(f4[i]) for i in range(len(f4))}\n",
    "print(dicionario2)"
   ]
  },
  {
   "cell_type": "markdown",
   "id": "33427ac5",
   "metadata": {},
   "source": [
    "# 04. Lidando com exceções\n",
    "## Aquecimento"
   ]
  },
  {
   "cell_type": "code",
   "execution_count": 7,
   "id": "dd66c3fb",
   "metadata": {},
   "outputs": [
    {
     "name": "stdout",
     "output_type": "stream",
     "text": [
      "Digite um valor: 10000\n",
      "Digite outro valor: 3019B\n",
      "could not convert string to float: '3019B'\n",
      "Programa finalizado!\n"
     ]
    }
   ],
   "source": [
    "\"\"\"\n",
    "1. Faça um programa que solicite à pessoa usuária digitar dois \n",
    "números float e calcular a divisão entre esses números. \n",
    "O código deve conter um tratamento de erro, indicando o tipo de \n",
    "erro que foi gerado caso a divisão não seja possível de realizar.\n",
    "\n",
    "Teste o programa com o segundo valor numérico do input igual a 0. \n",
    "Também teste utilizando caracteres textuais no input para checar \n",
    "os tipos de erro que ocorrem.\n",
    "\"\"\"\n",
    "try:\n",
    "    x1 = float(input(\"Digite um valor: \"))\n",
    "    x2 = float(input(\"Digite outro valor: \"))\n",
    "    div = x1 / x2\n",
    "except ValueError as e:\n",
    "    print(e)\n",
    "else:\n",
    "    print(div)\n",
    "finally:\n",
    "    print(\"Programa finalizado!\")"
   ]
  },
  {
   "cell_type": "code",
   "execution_count": 12,
   "id": "4de18ca3",
   "metadata": {},
   "outputs": [
    {
     "name": "stdout",
     "output_type": "stream",
     "text": [
      "Digite o nome: Pedro\n",
      "Nome não encontrado\n",
      "Programa finalizado!\n"
     ]
    }
   ],
   "source": [
    "\"\"\"\n",
    "2. Faça um programa que solicite à pessoa usuária digitar um \n",
    "texto que será uma chave a ser pesquisada no seguinte \n",
    "dicionário: idades = {'Júlia': 16, 'Carol': 23, 'Alberto': 19, 'Roberta': 17}, \n",
    "armazenando o resultado do valor em uma variável. O código deve \n",
    "conter um tratamento de erro KeyError, imprimindo a informação \n",
    "'Nome não encontrado', caso ocorra o erro; e imprimir o \n",
    "valor caso não ocorra nenhum.\n",
    "\n",
    "Teste o programa com um nome presente em uma das \n",
    "chaves do dicionário e com um que não esteja no \n",
    "dicionário para verificar a mensagem de erro.\n",
    "\"\"\"\n",
    "idades = {'Júlia': 16, 'Carol': 23, 'Alberto': 19, 'Roberta': 17}\n",
    "try:\n",
    "    x = input(\"Digite o nome: \")\n",
    "    resultado = idades[x]\n",
    "except KeyError:\n",
    "    print(\"Nome não encontrado\")\n",
    "else:\n",
    "    print(resultado)\n",
    "finally:\n",
    "    print(\"Programa finalizado!\")"
   ]
  },
  {
   "cell_type": "code",
   "execution_count": 43,
   "id": "712e9294",
   "metadata": {},
   "outputs": [
    {
     "name": "stdout",
     "output_type": "stream",
     "text": [
      "Ocorreu um erro de valor. could not convert string to float: 'A'\n",
      "Fim da execução da função\n"
     ]
    }
   ],
   "source": [
    "\"\"\"\n",
    "3. Crie uma função que recebe uma lista como \n",
    "parâmetro e converta todos os valores da lista \n",
    "para float. A função deve conter um tratamento \n",
    "de erro indicando o tipo de erro gerado e retornar \n",
    "a lista caso não tenha ocorrido nenhum erro. \n",
    "Por fim, deve ter a cláusula finally para imprimir \n",
    "o texto: 'Fim da execução da função'.\n",
    "\"\"\"\n",
    "def converter (lista):\n",
    "    lista2 = list(map(lambda x: float(x), lista))\n",
    "    return lista2\n",
    "\n",
    "try:\n",
    "    vF = converter([\"A\", 2, 3 ,4])\n",
    "except ValueError as e:\n",
    "    print(\"Ocorreu um erro de valor.\", e)\n",
    "else:\n",
    "    print(vF)\n",
    "finally:\n",
    "    print(\"Fim da execução da função\")"
   ]
  },
  {
   "cell_type": "code",
   "execution_count": 59,
   "id": "ad719846",
   "metadata": {},
   "outputs": [
    {
     "name": "stdout",
     "output_type": "stream",
     "text": [
      "Só são aceitos valores numéricos\n",
      "Programa finalizado\n"
     ]
    }
   ],
   "source": [
    "\"\"\"\n",
    "4. Crie uma função que recebe duas listas como parâmetros e \n",
    "agrupe os elementos um a um das listas, formando uma lista de \n",
    "tuplas de 3 elementos, no qual o primeiro e segundo elemento \n",
    "da tupla são os valores na posição i das listas e o terceiro \n",
    "elemento é a soma dos valores na posição i das listas.\n",
    "\n",
    "A função deve conter um tratamento de erro indicando o tipo \n",
    "de erro gerado e retornar como resultado a lista de tuplas. \n",
    "Caso as listas enviadas como parâmetro tenham tamanhos diferentes, \n",
    "a função deve retornar um IndexError com a frase: 'A quantidade de \n",
    "elementos em cada lista é diferente.' Dados para testar a função:\n",
    "\n",
    "Valores sem erro:\n",
    "lista1 = [4,6,7,9,10]\n",
    "lista2 = [-4,6,8,7,9]\n",
    "\n",
    "Listas com tamanhos diferentes:\n",
    "lista1 = [4,6,7,9,10,4]\n",
    "lista2 = [-4,6,8,7,9]\n",
    "\n",
    "Listas com valores incoerentes:\n",
    "lista1 = [4,6,7,9,'A']\n",
    "lista2 = [-4,'E',8,7,9]\n",
    "\"\"\"\n",
    "def agrupamento (l1, l2):\n",
    "    if len(l1) != len(l2):\n",
    "        raise IndexError(\"As listas possuem tamanhos diferentes.\")\n",
    "    l3 = [((l1[i]), (l2[i]), (l1[i] + l2 [i])) for i in range(len(l1))]\n",
    "    return l3\n",
    "\n",
    "try:\n",
    "    lista1 = [4,6,7,9,'A']\n",
    "    lista2 = [-4,'E',8,7,9]\n",
    "    resultado = agrupamento(lista1, lista2)\n",
    "except IndexError as e:\n",
    "    print(e)\n",
    "except TypeError:\n",
    "    print(\"Só são aceitos valores numéricos\")\n",
    "else:\n",
    "    print(resultado)\n",
    "finally:\n",
    "    print(\"Programa finalizado\")"
   ]
  },
  {
   "cell_type": "markdown",
   "id": "6ff6133d",
   "metadata": {},
   "source": [
    "## Aplicando a projetos"
   ]
  },
  {
   "cell_type": "code",
   "execution_count": 85,
   "id": "4d5ddb52",
   "metadata": {},
   "outputs": [
    {
     "name": "stdout",
     "output_type": "stream",
     "text": [
      "A alternativa E não é uma opção de alternativa válida\n",
      "Programa finalizado!\n"
     ]
    }
   ],
   "source": [
    "\"\"\"\n",
    "5. Como desafio, você recebeu a tarefa de desenvolver um \n",
    "código que contabiliza as pontuações de estudantes de uma \n",
    "instituição de ensino de acordo com suas respostas num teste. \n",
    "Este código deve ser testado para um exemplo de 3 estudantes \n",
    "com uma lista de listas em que cada lista possui as respostas \n",
    "de 5 questões objetivas de cada estudante. Cada questão vale \n",
    "um ponto e as alternativas possíveis são A, B, C ou D.\n",
    "\n",
    "Caso alguma alternativa em um dos testes não esteja entre as \n",
    "alternativas possíveis, você deve lançar um ValueError com \n",
    "a mensagem \"A alternativa [alternativa] não é uma opção de \n",
    "alternativa válida\". O cálculo das 3 notas só será realizado \n",
    "mediante as entradas com as alternativas A, B, C ou D em todos \n",
    "os testes. Se não for lançada a exceção, será exibida uma lista com \n",
    "as notas em cada teste.\n",
    "\n",
    "Os dados para o teste do código são:\n",
    "\n",
    "Gabarito da prova: gabarito = ['D', 'A', 'B', 'C', 'A']\n",
    "Abaixo temos 2 listas de listas que você pode usar como teste\n",
    "\n",
    "Notas sem exceção: testes_sem_ex = [['D', 'A', 'B', 'C', 'A'], ['C', 'A', 'A', 'C', 'A'], ['D', 'B', 'A', 'C', 'A']]\n",
    "Notas com exceção: testes_com_ex = [['D', 'A', 'B', 'C', 'A'], ['C', 'A', 'A', 'E', 'A'], ['D', 'B', 'A', 'C', 'A']]\n",
    "\n",
    "Dica: Para verificar se uma entrada da lista não \n",
    "está entre as alternativas possíveis, use a estrutura \n",
    "lista[i] not in ['A','B','C','D']. Por exemplo, 1 not in [2,3,4]... Saída: True.\n",
    "\"\"\"\n",
    "gabarito = ['D', 'A', 'B', 'C', 'A']\n",
    "lista2 = []\n",
    "def pontos (lista):\n",
    "    for n in range(len(lista)):\n",
    "        for l in range(len(lista[0])):\n",
    "            if lista[n][l] not in ['A', 'B', 'C', 'D']:\n",
    "                raise ValueError(f\"A alternativa {lista[n][l]} não é uma opção de alternativa válida\")\n",
    "        pontuacao = [1 if lista[n][i] == gabarito[i] else 0 for i in range(len(lista[0]))]\n",
    "        lista2.append(pontuacao)\n",
    "\n",
    "try:\n",
    "    testes_com_ex = [['D', 'A', 'B', 'C', 'A'], ['C', 'A', 'A', 'E', 'A'], ['D', 'B', 'A', 'C', 'A']]\n",
    "    pontos(testes_com_ex)\n",
    "except ValueError as e:\n",
    "    print(e)\n",
    "else:\n",
    "    print(lista2)\n",
    "finally:\n",
    "    print(\"Programa finalizado!\")"
   ]
  },
  {
   "cell_type": "code",
   "execution_count": 4,
   "id": "fe46da32",
   "metadata": {},
   "outputs": [
    {
     "name": "stdout",
     "output_type": "stream",
     "text": [
      "Erro na palavra poderosa,\n",
      "Programa finalizado\n"
     ]
    }
   ],
   "source": [
    "\"\"\"\n",
    "6. Você está trabalhando com processamento de linguagem natural (NLP) \n",
    "e, dessa vez, sua líder requisitou que você criasse um trecho de \n",
    "código que recebe uma lista com as palavras separadas de uma frase gerada pelo ChatGPT.\n",
    "\n",
    "Você precisa criar uma função que avalia cada palavra desse texto \n",
    "e verificar se o tratamento para retirar os símbolos de pontuação \n",
    "(',' '.', '!' e '?') foi realizado. Caso contrário, será lançada uma \n",
    "exceção do tipo ValueError apontando o 1º caso em que foi detectado \n",
    "o uso de uma pontuação por meio da frase \"O texto apresenta pontuações \n",
    "na palavra \"[palavra]\".\". Essa demanda é voltada para a análise do \n",
    "padrão de frases geradas pela inteligência artificial.\n",
    "\n",
    "Dica: Para verificar se uma ou mais das pontuações estão presentes \n",
    "em cada palavra, utilize a palavra chave or na condição if. \n",
    "Por exemplo, 'a' in 'alura' or 'b' in 'alura'… Saída: True\n",
    "\n",
    "Os dados para o teste do código são:\n",
    "lista_tratada = ['Python', 'é', 'uma', 'linguagem', 'de', 'programação', 'poderosa', 'versátil',\n",
    "                  'e', 'fácil', 'de', 'aprender', 'utilizada', 'em', 'diversos', 'campos', 'desde',\n",
    "                  'análise', 'de', 'dados', 'até', 'inteligência', 'artificial']\n",
    "lista_nao_tratada = ['Python', 'é', 'uma', 'linguagem', 'de', 'programação', 'poderosa,', 'versátil',\n",
    "                  'e', 'fácil,', 'de', 'aprender', 'utilizada', 'em', 'diversos', 'campos,', 'desde',\n",
    "                  'análise', 'de', 'dados', 'até', 'inteligência', 'artificial!']\n",
    "\"\"\"\n",
    "def verif (lista):\n",
    "    for i in range(len(lista)):\n",
    "        if '.' in lista[i] or ',' in lista[i] or '!' in lista[i] or '?' in lista[i]:\n",
    "            raise ValueError(f\"Erro na palavra {lista[i]}\")\n",
    "lista_nao_tratada = ['Python', 'é', 'uma', 'linguagem', 'de', 'programação', 'poderosa,', 'versátil',\n",
    "                  'e', 'fácil,', 'de', 'aprender', 'utilizada', 'em', 'diversos', 'campos,', 'desde',\n",
    "                  'análise', 'de', 'dados', 'até', 'inteligência', 'artificial!']\n",
    "\n",
    "try:\n",
    "    verif(lista_nao_tratada)\n",
    "except ValueError as e:\n",
    "    print(e)\n",
    "else:\n",
    "    print(\"Nenhum erro\")\n",
    "finally:\n",
    "    print(\"Programa finalizado\")"
   ]
  },
  {
   "cell_type": "code",
   "execution_count": 11,
   "id": "88b925f7",
   "metadata": {},
   "outputs": [
    {
     "name": "stdout",
     "output_type": "stream",
     "text": [
      "Não é possível dividir um valor por 0\n",
      "Programa finalizado\n"
     ]
    }
   ],
   "source": [
    "\"\"\"\n",
    "7. Você foi contratado(a) como uma pessoa cientista de dados para auxiliar um \n",
    "laboratório que faz experimentos sobre o comportamento de uma cultura de fungos. \n",
    "O laboratório precisa avaliar constantemente a razão (divisão) entre os dados de \n",
    "pressão e temperatura do ambiente controlado recolhidos durante a experimentação \n",
    "para definir a melhor condição para os testes.\n",
    "\n",
    "Para cumprir com a demanda, você precisa criar uma função divide_colunas que recebe \n",
    "os dados das colunas de pressão e temperatura (que vem no formato de listas) e \n",
    "gerar uma nova coluna com o resultado da divisão. Os parâmetros da função são \n",
    "as duas listas e você deve tratar dentro dela ao menos 2 tipos de exceções:\n",
    "\n",
    "Verificar se as listas têm o mesmo tamanho (ValueError)\n",
    "Verificar se existe alguma divisão por zero (ZeroDivisionError)\n",
    "Para testar a função, vamos realizar a divisão entre duas listas de dados \n",
    "coletados no experimento, com os valores de pressão e temperatura do ambiente controlado.\n",
    "\n",
    "Como teste, use os seguintes dados:\n",
    "\n",
    "Dados sem exceção:\n",
    "pressoes = [100, 120, 140, 160, 180]\n",
    "temperaturas = [20, 25, 30, 35, 40]\n",
    "\n",
    "Dados com exceção:\n",
    "1) Exceção de ZeroDivisionError\n",
    "\n",
    "pressoes = [60, 120, 140, 160, 180]\n",
    "temperaturas = [0, 25, 30, 35, 40]\n",
    "2) Exceção de ValueError\n",
    "\n",
    "pressoes = [100, 120, 140, 160]\n",
    "temperaturas = [20, 25, 30, 35, 40]\n",
    "\n",
    "Dica: Você pode usar zip() para parear os dados da lista_1 com a lista_2. \n",
    "Crie uma estrutura try-except que caso uma das exceções sejam lançadas, podemos ver o tipo de erro na saída.\n",
    "\"\"\"\n",
    "def divide_colunas (lista1, lista2):\n",
    "    if len(lista1) != len(lista2):\n",
    "        raise ValueError(\"Listas com tamanhos diferentes\")\n",
    "    lista3 = [round(lista1[i] / lista2[i], 2) for i in range(len(lista1))]\n",
    "    return lista3\n",
    "try:\n",
    "    pressoes = [60, 120, 140, 160, 180]\n",
    "    temperaturas = [0, 25, 30, 35, 40]\n",
    "    resultado = divide_colunas(pressoes, temperaturas)\n",
    "except ValueError as e:\n",
    "    print(e)\n",
    "except ZeroDivisionError:\n",
    "    print(\"Não é possível dividir um valor por 0\")\n",
    "else:\n",
    "    print(resultado)\n",
    "finally:\n",
    "    print(\"Programa finalizado\")"
   ]
  }
 ],
 "metadata": {
  "kernelspec": {
   "display_name": "Python 3 (ipykernel)",
   "language": "python",
   "name": "python3"
  },
  "language_info": {
   "codemirror_mode": {
    "name": "ipython",
    "version": 3
   },
   "file_extension": ".py",
   "mimetype": "text/x-python",
   "name": "python",
   "nbconvert_exporter": "python",
   "pygments_lexer": "ipython3",
   "version": "3.11.5"
  }
 },
 "nbformat": 4,
 "nbformat_minor": 5
}
