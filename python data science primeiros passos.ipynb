{
 "cells": [
  {
   "cell_type": "markdown",
   "id": "4845f2d6",
   "metadata": {},
   "source": [
    "# 00. Markdown"
   ]
  },
  {
   "cell_type": "markdown",
   "id": "1f436884",
   "metadata": {},
   "source": [
    "# Titulo (#)\n",
    "*Itálico (um asterísco em cada ponta)*\n",
    "## Sub-título (##)\n",
    "- lista (-)\n",
    "* lista (*)\n",
    "1. lista (1.)\n",
    "### Fonte maior (###)\n",
    "**Negrito (dois asteríscos em cada ponta)**"
   ]
  },
  {
   "cell_type": "markdown",
   "id": "98177098",
   "metadata": {},
   "source": [
    "# 01. Começando em Python"
   ]
  },
  {
   "cell_type": "markdown",
   "id": "dd62a3c7",
   "metadata": {},
   "source": [
    "### Olá mundo"
   ]
  },
  {
   "cell_type": "code",
   "execution_count": 2,
   "id": "3b3d863a",
   "metadata": {},
   "outputs": [
    {
     "name": "stdout",
     "output_type": "stream",
     "text": [
      "Olá mundo!\n"
     ]
    }
   ],
   "source": [
    "print('Olá mundo!')"
   ]
  },
  {
   "cell_type": "code",
   "execution_count": 3,
   "id": "ebca5b86",
   "metadata": {},
   "outputs": [
    {
     "name": "stdout",
     "output_type": "stream",
     "text": [
      "10\n"
     ]
    }
   ],
   "source": [
    "print(10)"
   ]
  },
  {
   "cell_type": "code",
   "execution_count": 6,
   "id": "e591d59e",
   "metadata": {
    "scrolled": false
   },
   "outputs": [
    {
     "name": "stdout",
     "output_type": "stream",
     "text": [
      "Pedro 18\n"
     ]
    }
   ],
   "source": [
    "print('Pedro', 18)"
   ]
  },
  {
   "cell_type": "markdown",
   "id": "3f4ea3b8",
   "metadata": {},
   "source": [
    "\n",
    "# 02. Manipulando dados em Python"
   ]
  },
  {
   "cell_type": "markdown",
   "id": "230c9856",
   "metadata": {},
   "source": [
    "### Comentários"
   ]
  },
  {
   "cell_type": "code",
   "execution_count": 10,
   "id": "232bd8d8",
   "metadata": {},
   "outputs": [
    {
     "name": "stdout",
     "output_type": "stream",
     "text": [
      "10\n"
     ]
    }
   ],
   "source": [
    "# Comentário de uma linha\n",
    "print(10) # Comentário"
   ]
  },
  {
   "cell_type": "code",
   "execution_count": 12,
   "id": "a1e94509",
   "metadata": {},
   "outputs": [
    {
     "name": "stdout",
     "output_type": "stream",
     "text": [
      "20\n",
      "40\n"
     ]
    }
   ],
   "source": [
    "'''\n",
    "Comentário de várias linhas \n",
    "python(10)\n",
    "'''\n",
    "print(20)\n",
    "\"\"\"\n",
    "Outro tipo de comentário de várias linhas\n",
    "print(30)\n",
    "\"\"\"\n",
    "print(40)"
   ]
  },
  {
   "cell_type": "markdown",
   "id": "69fd4da2",
   "metadata": {},
   "source": [
    "### Variáveis"
   ]
  },
  {
   "cell_type": "markdown",
   "id": "eac28b47",
   "metadata": {},
   "source": [
    "Variável = nome associado a um valor"
   ]
  },
  {
   "cell_type": "code",
   "execution_count": 3,
   "id": "07b7c71a",
   "metadata": {},
   "outputs": [
    {
     "name": "stdout",
     "output_type": "stream",
     "text": [
      "18\n"
     ]
    }
   ],
   "source": [
    "idade = 18\n",
    "print(idade)"
   ]
  },
  {
   "cell_type": "markdown",
   "id": "4a088ede",
   "metadata": {},
   "source": [
    "Esse valor pode ser \"variável\", ou seja, pode ser trocado a qualquer momento"
   ]
  },
  {
   "cell_type": "code",
   "execution_count": 5,
   "id": "4c8eddaf",
   "metadata": {},
   "outputs": [
    {
     "name": "stdout",
     "output_type": "stream",
     "text": [
      "5\n"
     ]
    }
   ],
   "source": [
    "idade = 18\n",
    "idade = 5\n",
    "print(idade)"
   ]
  },
  {
   "cell_type": "code",
   "execution_count": 6,
   "id": "729be92a",
   "metadata": {},
   "outputs": [
    {
     "data": {
      "text/plain": [
       "15"
      ]
     },
     "execution_count": 6,
     "metadata": {},
     "output_type": "execute_result"
    }
   ],
   "source": [
    "idade = 15\n",
    "idade"
   ]
  },
  {
   "cell_type": "code",
   "execution_count": 8,
   "id": "bba35068",
   "metadata": {},
   "outputs": [
    {
     "name": "stdout",
     "output_type": "stream",
     "text": [
      "Pedro\n"
     ]
    }
   ],
   "source": [
    "nome = 'Pedro'\n",
    "print(nome)"
   ]
  },
  {
   "cell_type": "code",
   "execution_count": 9,
   "id": "4a720660",
   "metadata": {
    "scrolled": true
   },
   "outputs": [
    {
     "data": {
      "text/plain": [
       "'Pedro'"
      ]
     },
     "execution_count": 9,
     "metadata": {},
     "output_type": "execute_result"
    }
   ],
   "source": [
    "nome"
   ]
  },
  {
   "cell_type": "markdown",
   "id": "96e9e8a9",
   "metadata": {},
   "source": [
    "#### Nomes que não podem ser definidos como variáveis:\n",
    "- Nomes que começam com números (10_notas)\n",
    "- Palavras separadas (notas estudantes)\n",
    "- Nomes de funções do Python (print, type, ...)\n",
    "\n",
    "Obs.: letras maiúsculas tem diferença na hora de definir variáveis"
   ]
  },
  {
   "cell_type": "markdown",
   "id": "ce85ca94",
   "metadata": {},
   "source": [
    "\n",
    "### Tipo de variáveis"
   ]
  },
  {
   "cell_type": "markdown",
   "id": "d1549156",
   "metadata": {},
   "source": [
    "#### int\n",
    "Armazena números inteiros (exemplo: 3, 100 ou -5)\n",
    "#### float\n",
    "Armazena números com ponto flutuante, ou seja, números que possuem uma parte fracionária ou reais (exemplo: 3,14, 100.0 ou -0.5)\n",
    "#### str\n",
    "Armazena strings, ou seja, um texto ou sequências de caracteres. As strings são geralmente usadas para armazenar texto e são delimitadas por aspas simples ou duplas (exemplo: \"Olá!\", 'Alura' ou \"1234\")\n",
    "#### bool\n",
    "Armazena valores lógicos verdadeiro ou falso (exemplo: True e False)"
   ]
  },
  {
   "cell_type": "code",
   "execution_count": 11,
   "id": "b271b0aa",
   "metadata": {},
   "outputs": [
    {
     "data": {
      "text/plain": [
       "int"
      ]
     },
     "execution_count": 11,
     "metadata": {},
     "output_type": "execute_result"
    }
   ],
   "source": [
    "i = 5\n",
    "type(i)"
   ]
  },
  {
   "cell_type": "code",
   "execution_count": 12,
   "id": "6288cfb4",
   "metadata": {},
   "outputs": [
    {
     "data": {
      "text/plain": [
       "float"
      ]
     },
     "execution_count": 12,
     "metadata": {},
     "output_type": "execute_result"
    }
   ],
   "source": [
    "f = 9.8\n",
    "type(f)"
   ]
  },
  {
   "cell_type": "code",
   "execution_count": 13,
   "id": "4f46e239",
   "metadata": {},
   "outputs": [
    {
     "data": {
      "text/plain": [
       "str"
      ]
     },
     "execution_count": 13,
     "metadata": {},
     "output_type": "execute_result"
    }
   ],
   "source": [
    "s = 'vasco'\n",
    "type(s)"
   ]
  },
  {
   "cell_type": "code",
   "execution_count": 14,
   "id": "44839d7f",
   "metadata": {},
   "outputs": [
    {
     "data": {
      "text/plain": [
       "bool"
      ]
     },
     "execution_count": 14,
     "metadata": {},
     "output_type": "execute_result"
    }
   ],
   "source": [
    "b = True\n",
    "type(b)"
   ]
  },
  {
   "cell_type": "markdown",
   "id": "14c1f3b1",
   "metadata": {},
   "source": [
    "### Variáveis numéricas\n",
    "(inteiro e float)\n",
    "#### Exercício:"
   ]
  },
  {
   "attachments": {
    "Capturar.PNG": {
     "image/png": "[encoded data removed]"
    }
   },
   "cell_type": "markdown",
   "id": "4b92f783",
   "metadata": {},
   "source": [
    "![Capturar.PNG](attachment:Capturar.PNG)"
   ]
  },
  {
   "cell_type": "markdown",
   "id": "94f0e9b2",
   "metadata": {},
   "source": [
    "Precisamos trabalhar com esses dados fornecendo:\n",
    "\n",
    "- A quantidade total de empregados;\n",
    "- A diferença entre o salário mais baixo e mais alto;\n",
    "- A média ponderada da faixa salarial da escola."
   ]
  },
  {
   "cell_type": "code",
   "execution_count": 9,
   "id": "aaeb5a3f",
   "metadata": {},
   "outputs": [],
   "source": [
    "q_seguranca = 5\n",
    "s_seguranca = 3000\n",
    "\n",
    "q_docente = 16\n",
    "s_docente = 6000\n",
    "\n",
    "q_diretoria = 1\n",
    "s_diretoria = 12500"
   ]
  },
  {
   "cell_type": "code",
   "execution_count": 3,
   "id": "3af4dc3a",
   "metadata": {},
   "outputs": [
    {
     "name": "stdout",
     "output_type": "stream",
     "text": [
      "22\n"
     ]
    }
   ],
   "source": [
    "#Quantidade total de empregados:\n",
    "total_empregados = q_seguranca + q_docente + q_diretoria\n",
    "print(total_empregados)"
   ]
  },
  {
   "cell_type": "code",
   "execution_count": 10,
   "id": "5ee1c962",
   "metadata": {},
   "outputs": [
    {
     "name": "stdout",
     "output_type": "stream",
     "text": [
      "9500\n"
     ]
    }
   ],
   "source": [
    "#Diferença entre o salario mais baixo e mais alto\n",
    "dif = s_diretoria - s_seguranca\n",
    "print(dif)"
   ]
  },
  {
   "cell_type": "code",
   "execution_count": 11,
   "id": "2fc288cb",
   "metadata": {},
   "outputs": [
    {
     "name": "stdout",
     "output_type": "stream",
     "text": [
      "5613.636363636364\n"
     ]
    }
   ],
   "source": [
    "#Média ponderada da faixa salarial da escola\n",
    "media_p = (q_seguranca*s_seguranca + q_docente*s_docente + q_diretoria*s_diretoria) / total_empregados\n",
    "print(media_p)"
   ]
  },
  {
   "cell_type": "markdown",
   "id": "b70c91ce",
   "metadata": {},
   "source": [
    "### Outros operadores:\n",
    "Exponenciação (**)\n",
    "\n",
    "Módulo (%)\n",
    "\n",
    "Divisão inteira (//)"
   ]
  },
  {
   "cell_type": "markdown",
   "id": "2e0b1145",
   "metadata": {},
   "source": [
    "### Strings"
   ]
  },
  {
   "cell_type": "code",
   "execution_count": 1,
   "id": "cced12b9",
   "metadata": {},
   "outputs": [
    {
     "name": "stdout",
     "output_type": "stream",
     "text": [
      "<class 'str'> <class 'str'>\n"
     ]
    }
   ],
   "source": [
    "s1 = 'Pedro'\n",
    "s2 = \"Pedro\"\n",
    "print(type(s1), type(s2))"
   ]
  },
  {
   "cell_type": "markdown",
   "id": "1dee953d",
   "metadata": {},
   "source": [
    "Métodos = funções associadas ao Python\n",
    "\n",
    "exemplo:\n",
    "objeto.metodo()"
   ]
  },
  {
   "cell_type": "markdown",
   "id": "9c74669d",
   "metadata": {},
   "source": [
    "#### str.upper() = deixa a string maiúscula"
   ]
  },
  {
   "cell_type": "code",
   "execution_count": 9,
   "id": "324d5519",
   "metadata": {},
   "outputs": [
    {
     "name": "stdout",
     "output_type": "stream",
     "text": [
      " PEDRO HENRIQUE SANTOS \n"
     ]
    }
   ],
   "source": [
    "texto = ' Pedro Henrique Santos '\n",
    "print(texto.upper())"
   ]
  },
  {
   "cell_type": "markdown",
   "id": "e36f9d23",
   "metadata": {},
   "source": [
    "#### str.lower() = deixa a string minúscula"
   ]
  },
  {
   "cell_type": "code",
   "execution_count": 10,
   "id": "39596664",
   "metadata": {},
   "outputs": [
    {
     "name": "stdout",
     "output_type": "stream",
     "text": [
      " pedro henrique santos \n"
     ]
    }
   ],
   "source": [
    "texto = ' Pedro Henrique Santos '\n",
    "print(texto.lower())"
   ]
  },
  {
   "cell_type": "markdown",
   "id": "a0c17e2b",
   "metadata": {},
   "source": [
    "#### str.strip() = remove os espaços em branco no começo e no final da string"
   ]
  },
  {
   "cell_type": "code",
   "execution_count": 11,
   "id": "38a4e760",
   "metadata": {},
   "outputs": [
    {
     "name": "stdout",
     "output_type": "stream",
     "text": [
      "   exemplo de texto \n",
      "exemplo de texto\n"
     ]
    }
   ],
   "source": [
    "texto = '   exemplo de texto '\n",
    "print(texto)\n",
    "print(texto.strip())"
   ]
  },
  {
   "cell_type": "markdown",
   "id": "1d0043f3",
   "metadata": {},
   "source": [
    "#### str.replace(antigo, novo) = vai substituir um caractere \"antigo\" por um \"novo\""
   ]
  },
  {
   "cell_type": "code",
   "execution_count": 13,
   "id": "cc6bb6ba",
   "metadata": {},
   "outputs": [
    {
     "name": "stdout",
     "output_type": "stream",
     "text": [
      "felipe\n"
     ]
    }
   ],
   "source": [
    "texto = 'felype'\n",
    "print(texto.replace('y', 'i'))"
   ]
  },
  {
   "cell_type": "markdown",
   "id": "448bce18",
   "metadata": {},
   "source": [
    "Porém, o texto não muda após qualquer um desses métodos, para mudarmos o texto precisamos atualizar a variável"
   ]
  },
  {
   "cell_type": "code",
   "execution_count": 14,
   "id": "d5722092",
   "metadata": {},
   "outputs": [
    {
     "name": "stdout",
     "output_type": "stream",
     "text": [
      "EXEMPLO\n"
     ]
    }
   ],
   "source": [
    "texto = 'exemplo'\n",
    "texto = texto.upper()\n",
    "print(texto)"
   ]
  },
  {
   "cell_type": "markdown",
   "id": "b11fd668",
   "metadata": {},
   "source": [
    "Essas atribuições podem ser acumuladas (são lidas em ordem)"
   ]
  },
  {
   "cell_type": "code",
   "execution_count": 15,
   "id": "444f8600",
   "metadata": {
    "scrolled": true
   },
   "outputs": [
    {
     "name": "stdout",
     "output_type": "stream",
     "text": [
      "VASCO\n"
     ]
    }
   ],
   "source": [
    "texto = ' vasbo '\n",
    "texto = texto.strip().replace('b', 'c').upper()\n",
    "print(texto)"
   ]
  },
  {
   "cell_type": "markdown",
   "id": "1143f990",
   "metadata": {},
   "source": [
    "### Coletando dados"
   ]
  },
  {
   "cell_type": "markdown",
   "id": "a86ccd37",
   "metadata": {},
   "source": [
    "#### input() = usado para coletar dados do usuário"
   ]
  },
  {
   "cell_type": "code",
   "execution_count": 2,
   "id": "591301c8",
   "metadata": {},
   "outputs": [
    {
     "name": "stdout",
     "output_type": "stream",
     "text": [
      "Escreva seu nome: Pedro\n",
      "Pedro\n"
     ]
    }
   ],
   "source": [
    "nome = input('Escreva seu nome: ')\n",
    "print(nome)"
   ]
  },
  {
   "cell_type": "markdown",
   "id": "9d2adaa8",
   "metadata": {},
   "source": [
    "Entretanto, o input sempre vai receber um valor do tipo String"
   ]
  },
  {
   "cell_type": "code",
   "execution_count": 4,
   "id": "551b3d1a",
   "metadata": {},
   "outputs": [
    {
     "name": "stdout",
     "output_type": "stream",
     "text": [
      "Digite o ano de entrada: 2018\n"
     ]
    },
    {
     "data": {
      "text/plain": [
       "str"
      ]
     },
     "execution_count": 4,
     "metadata": {},
     "output_type": "execute_result"
    }
   ],
   "source": [
    "ano_entrada = input('Digite o ano de entrada: ')\n",
    "type(ano_entrada)"
   ]
  },
  {
   "cell_type": "markdown",
   "id": "53d954e7",
   "metadata": {},
   "source": [
    "Para resolver isso você precisa colocar o tipo da variável que você quer receber\n",
    "(int, float, str, bool)"
   ]
  },
  {
   "cell_type": "code",
   "execution_count": 5,
   "id": "8ebccc8f",
   "metadata": {},
   "outputs": [
    {
     "name": "stdout",
     "output_type": "stream",
     "text": [
      "Digite o ano de entrada: 2018\n"
     ]
    },
    {
     "data": {
      "text/plain": [
       "int"
      ]
     },
     "execution_count": 5,
     "metadata": {},
     "output_type": "execute_result"
    }
   ],
   "source": [
    "ano_entrada = int(input('Digite o ano de entrada: '))\n",
    "type(ano_entrada)"
   ]
  },
  {
   "cell_type": "markdown",
   "id": "1d291cba",
   "metadata": {},
   "source": [
    "#### Para usarmos um print com variáveis dentro dele, usaremos um 'f' para formatação"
   ]
  },
  {
   "cell_type": "code",
   "execution_count": 8,
   "id": "ba1f6281",
   "metadata": {},
   "outputs": [
    {
     "name": "stdout",
     "output_type": "stream",
     "text": [
      "Digite a nota do teste de ingresso: 6\n",
      "Digite o ano de entrada: 2020\n",
      "Ano de entrada 2020 - nota do teste de ingresso 6.0\n"
     ]
    }
   ],
   "source": [
    "nota_entrada = float(input('Digite a nota do teste de ingresso: '))\n",
    "ano_entrada = int(input('Digite o ano de entrada: '))\n",
    "print(f'Ano de entrada {ano_entrada} - nota do teste de ingresso {nota_entrada}')"
   ]
  },
  {
   "cell_type": "markdown",
   "id": "e995ecb1",
   "metadata": {},
   "source": [
    "### Formatações do print()"
   ]
  },
  {
   "cell_type": "markdown",
   "id": "d33c2a66",
   "metadata": {},
   "source": [
    "Existe outra forma de formatar um texto:\n",
    "\n",
    "string = %s\n",
    "\n",
    "inteiro = %d\n",
    "\n",
    "float = %f\n",
    "\n",
    "caractere = %c"
   ]
  },
  {
   "cell_type": "code",
   "execution_count": 9,
   "id": "5ec7b3eb",
   "metadata": {},
   "outputs": [
    {
     "name": "stdout",
     "output_type": "stream",
     "text": [
      "Nome do aluno é Fabricio, ele tem 15 anos e sua média é 9.450000\n"
     ]
    }
   ],
   "source": [
    "nome_aluno = 'Fabricio'\n",
    "idade_aluno = 15\n",
    "media_aluno = 9.45\n",
    "print(\"Nome do aluno é %s, ele tem %d anos e sua média é %f\" %(nome_aluno, idade_aluno, media_aluno))"
   ]
  },
  {
   "cell_type": "markdown",
   "id": "964559a7",
   "metadata": {},
   "source": [
    "Nota-se que para o float, ele coloca o número máximo de casas decimais. Para resolver isso você coloca o número desejado de casas decimais antes do f"
   ]
  },
  {
   "cell_type": "code",
   "execution_count": 11,
   "id": "94814026",
   "metadata": {},
   "outputs": [
    {
     "name": "stdout",
     "output_type": "stream",
     "text": [
      "9.45\n"
     ]
    }
   ],
   "source": [
    "print(\"%.2f\" %media_aluno)"
   ]
  },
  {
   "cell_type": "markdown",
   "id": "28eea9ec",
   "metadata": {},
   "source": [
    "Existe também o .format, que funciona como uma mistura dos dois"
   ]
  },
  {
   "cell_type": "code",
   "execution_count": 12,
   "id": "c5e61497",
   "metadata": {},
   "outputs": [
    {
     "name": "stdout",
     "output_type": "stream",
     "text": [
      "Nome do aluno é Fabricio, ele tem 15 anos e sua média é 8.45\n"
     ]
    }
   ],
   "source": [
    "nome_aluno = 'Fabricio'\n",
    "idade_aluno = 15\n",
    "media_aluno = 8.45\n",
    "print(\"Nome do aluno é {}, ele tem {} anos e sua média é {}\" .format(nome_aluno, idade_aluno, media_aluno))"
   ]
  },
  {
   "cell_type": "markdown",
   "id": "7cee776f",
   "metadata": {},
   "source": [
    "#### Resumindo\n",
    "O 'f' e o '.format' já reduzem os zeros da casa decimal, que na '%' você precisa especificar até qual casa você quer. De resto todos tem o mesmo funcionamento."
   ]
  },
  {
   "cell_type": "markdown",
   "id": "56ad40e3",
   "metadata": {},
   "source": [
    "#### Caracteres especiais:\n",
    "/n é usado para dar \"enter\" no texto\n",
    "\n",
    "/t é usado para dar um espaço de tabulação no texto\n",
    "\n",
    "// imprime uma / (%% imprime uma %)\n",
    "\n",
    "/\"  imprime uma \" (/' imprime uma ')"
   ]
  },
  {
   "cell_type": "markdown",
   "id": "3826ccf5",
   "metadata": {},
   "source": [
    "# 03. Estruturas condicionais"
   ]
  },
  {
   "cell_type": "markdown",
   "id": "7be77d4f",
   "metadata": {},
   "source": [
    "\"Se\" condição: (bloco de comando se a condição for verdadeira)\n",
    "\n",
    "\"Senão\": (bloco de comando se a condição for falsa)"
   ]
  },
  {
   "cell_type": "code",
   "execution_count": 1,
   "id": "5298f16a",
   "metadata": {},
   "outputs": [
    {
     "name": "stdout",
     "output_type": "stream",
     "text": [
      "Condição Verdadeira\n"
     ]
    }
   ],
   "source": [
    "if 2<7:\n",
    "    print(\"Condição Verdadeira\")"
   ]
  },
  {
   "cell_type": "code",
   "execution_count": 2,
   "id": "a28cdae3",
   "metadata": {},
   "outputs": [],
   "source": [
    "if 2>7:\n",
    "    print(\"Condição Verdadeira\")"
   ]
  },
  {
   "cell_type": "markdown",
   "id": "777a7d21",
   "metadata": {},
   "source": [
    "#### Operandos lógicos\n",
    "\n",
    "Maior que (>)\n",
    "\n",
    "Menor que (<)\n",
    "\n",
    "Maior ou igual a (>=)\n",
    "\n",
    "Menor ou igual a (<=)\n",
    "\n",
    "Igual a (==)\n",
    "\n",
    "Diferente de (!=)"
   ]
  },
  {
   "cell_type": "code",
   "execution_count": 3,
   "id": "f950ebde",
   "metadata": {},
   "outputs": [
    {
     "name": "stdout",
     "output_type": "stream",
     "text": [
      "Digite sua média: 8\n",
      "Você foi aprovado\n"
     ]
    }
   ],
   "source": [
    "media = float(input(\"Digite sua média: \"))\n",
    "if media >= 6:\n",
    "    print(\"Você foi aprovado\")\n",
    "else:\n",
    "    print(\"Você foi reprovado\")"
   ]
  },
  {
   "cell_type": "code",
   "execution_count": 6,
   "id": "47905357",
   "metadata": {},
   "outputs": [
    {
     "name": "stdout",
     "output_type": "stream",
     "text": [
      "Digite sua média: 6\n",
      "Recuperação\n"
     ]
    }
   ],
   "source": [
    "media = float(input(\"Digite sua média: \"))\n",
    "if media >= 7:\n",
    "    print(\"Aprovado\")\n",
    "elif media >= 5:\n",
    "    print(\"Recuperação\")\n",
    "else:\n",
    "    print(\"Reprovado\")"
   ]
  },
  {
   "cell_type": "markdown",
   "id": "d08451c5",
   "metadata": {},
   "source": [
    "#### Operadores lógicos\n",
    "and, or, not"
   ]
  },
  {
   "cell_type": "code",
   "execution_count": 8,
   "id": "0275fe4a",
   "metadata": {},
   "outputs": [
    {
     "name": "stdout",
     "output_type": "stream",
     "text": [
      "Verdadeiro (t1 and t2)\n",
      "Verdadeiro (t1 or f1)\n",
      "Verdadeiro (not f1)\n",
      "Verdadeiro (not(f1 and f2))\n"
     ]
    }
   ],
   "source": [
    "t1 = t2 = True\n",
    "f1 = f2 = False\n",
    "if t1 and t2:\n",
    "    print(\"Verdadeiro (t1 and t2)\")\n",
    "if t1 and f1:\n",
    "    print(\"Verdadeiro (t1 and f1)\")\n",
    "if t1 or f1:\n",
    "    print(\"Verdadeiro (t1 or f1)\")\n",
    "if not f1:\n",
    "    print(\"Verdadeiro (not f1)\")\n",
    "if not(f1 and f2):\n",
    "    print(\"Verdadeiro (not(f1 and f2))\")"
   ]
  },
  {
   "cell_type": "markdown",
   "id": "616c732b",
   "metadata": {},
   "source": [
    "#### IN"
   ]
  },
  {
   "cell_type": "code",
   "execution_count": 10,
   "id": "07d8ab26",
   "metadata": {
    "scrolled": true
   },
   "outputs": [
    {
     "name": "stdout",
     "output_type": "stream",
     "text": [
      "O Roberto alexandre está na lista\n"
     ]
    }
   ],
   "source": [
    "lista = \"Pedro Henrique, Roberto alexandre, Jamilton José\"\n",
    "nome_1 = \"Roberto alexandre\"\n",
    "if nome_1 in lista:\n",
    "    print(\"O {} está na lista\" .format(nome_1))"
   ]
  },
  {
   "cell_type": "markdown",
   "id": "41ad8d8a",
   "metadata": {},
   "source": [
    "# 04. Estruturas de repetição"
   ]
  },
  {
   "cell_type": "markdown",
   "id": "5fca9263",
   "metadata": {},
   "source": [
    "#### While"
   ]
  },
  {
   "cell_type": "code",
   "execution_count": 2,
   "id": "dcdb63cf",
   "metadata": {},
   "outputs": [
    {
     "name": "stdout",
     "output_type": "stream",
     "text": [
      "1\n",
      "2\n",
      "3\n",
      "4\n",
      "5\n",
      "6\n",
      "7\n",
      "8\n",
      "9\n",
      "10\n"
     ]
    }
   ],
   "source": [
    "contador = 1\n",
    "while contador <= 10:\n",
    "    print(contador)\n",
    "    contador += 1"
   ]
  },
  {
   "cell_type": "markdown",
   "id": "1ca0facb",
   "metadata": {},
   "source": [
    "#### Operadores de atribuição\n",
    "= atribuir valor à variável\n",
    "\n",
    "-= subtrai um valor na variável\n",
    "\n",
    "*= multiplica um valor pela variável\n",
    "\n",
    "/= divide a variável por um valor\n",
    "\n",
    "//= Realiza divisão inteira da variável por um valor\n",
    "\n",
    "%= calcula o resto da divisão do valor na variável e atribui o resultado à variável"
   ]
  },
  {
   "cell_type": "markdown",
   "id": "8cf01d9d",
   "metadata": {},
   "source": [
    "#### For"
   ]
  },
  {
   "cell_type": "code",
   "execution_count": 3,
   "id": "ce03ad1b",
   "metadata": {},
   "outputs": [
    {
     "name": "stdout",
     "output_type": "stream",
     "text": [
      "1\n",
      "2\n",
      "3\n",
      "4\n",
      "5\n",
      "6\n",
      "7\n",
      "8\n",
      "9\n",
      "10\n"
     ]
    }
   ],
   "source": [
    "for contador in range (1, 11):\n",
    "    print(contador)"
   ]
  },
  {
   "cell_type": "markdown",
   "id": "72061027",
   "metadata": {},
   "source": [
    "**continue** e o **break** são comandos de controle e podem ser usados no for ou no while"
   ]
  },
  {
   "cell_type": "code",
   "execution_count": 4,
   "id": "28a814cc",
   "metadata": {},
   "outputs": [
    {
     "name": "stdout",
     "output_type": "stream",
     "text": [
      "1\n",
      "2\n",
      "3\n",
      "5\n"
     ]
    }
   ],
   "source": [
    "for i in range(1, 6):\n",
    "    if i == 4:\n",
    "        continue\n",
    "    print(i)"
   ]
  },
  {
   "cell_type": "code",
   "execution_count": 5,
   "id": "3228a799",
   "metadata": {},
   "outputs": [
    {
     "name": "stdout",
     "output_type": "stream",
     "text": [
      "1\n",
      "2\n",
      "3\n"
     ]
    }
   ],
   "source": [
    "for i in range(1, 6):\n",
    "    if i == 4:\n",
    "        break\n",
    "    print(i)"
   ]
  },
  {
   "cell_type": "markdown",
   "id": "4ba91b67",
   "metadata": {},
   "source": [
    "# 05. Estrutura de dados"
   ]
  },
  {
   "cell_type": "markdown",
   "id": "1c3ece83",
   "metadata": {},
   "source": [
    "Dado estruturado = estrutura e armazena vários tipos de dados"
   ]
  },
  {
   "cell_type": "markdown",
   "id": "985b5728",
   "metadata": {},
   "source": [
    "#### Lista\n",
    "armazena em ordem"
   ]
  },
  {
   "cell_type": "code",
   "execution_count": 1,
   "id": "362ac6bf",
   "metadata": {},
   "outputs": [
    {
     "name": "stdout",
     "output_type": "stream",
     "text": [
      "Fabricio Daniel\n",
      "9.0\n",
      "True\n",
      "9.0\n"
     ]
    }
   ],
   "source": [
    "lista = [\"Fabricio Daniel\", 9.5, 9.0, 8.0, True]\n",
    "\"\"\"Cada um desses elementos possuem um índice\n",
    "Começando do 0 na primeira casa e somando um a cada próxima casa, \n",
    "ou começando com -1 na ultima casa e subtraindo um a cada próxima casa\"\"\"\n",
    "print(lista[0])\n",
    "print(lista[2])\n",
    "print(lista[-1])\n",
    "print(lista[-3])"
   ]
  },
  {
   "cell_type": "code",
   "execution_count": 5,
   "id": "5c712b2b",
   "metadata": {
    "scrolled": true
   },
   "outputs": [
    {
     "name": "stdout",
     "output_type": "stream",
     "text": [
      "Fabricio Daniel\n",
      "9.5\n",
      "9.0\n",
      "8.0\n",
      "True\n"
     ]
    }
   ],
   "source": [
    "for i in lista:\n",
    "    print(i)"
   ]
  },
  {
   "cell_type": "code",
   "execution_count": 7,
   "id": "e588846d",
   "metadata": {},
   "outputs": [
    {
     "name": "stdout",
     "output_type": "stream",
     "text": [
      "Fabricio Daniel\n",
      "9.5\n",
      "9.0\n",
      "10.0\n",
      "True\n"
     ]
    }
   ],
   "source": [
    "lista[3] = 10.0\n",
    "for i in lista:\n",
    "    print(i)"
   ]
  },
  {
   "cell_type": "code",
   "execution_count": 8,
   "id": "38239876",
   "metadata": {},
   "outputs": [
    {
     "name": "stdout",
     "output_type": "stream",
     "text": [
      "9.5\n"
     ]
    }
   ],
   "source": [
    "media = (lista[1] + lista[2] + lista[3]) / 3\n",
    "print(media)"
   ]
  },
  {
   "cell_type": "markdown",
   "id": "67d706db",
   "metadata": {},
   "source": [
    "#### Para saber mais: String - uma sequência de caracteres"
   ]
  },
  {
   "cell_type": "code",
   "execution_count": 9,
   "id": "30f55618",
   "metadata": {},
   "outputs": [
    {
     "name": "stdout",
     "output_type": "stream",
     "text": [
      "P y h o n\n"
     ]
    }
   ],
   "source": [
    "linguagem = \"Python\"\n",
    "# Cada casa da string pode ser selecionada como se fosse uma lista\n",
    "# Porém não pode ser alterada\n",
    "print(linguagem[0], linguagem[1], linguagem[3], linguagem[4], linguagem[5])"
   ]
  },
  {
   "cell_type": "code",
   "execution_count": 11,
   "id": "8677ca1b",
   "metadata": {},
   "outputs": [
    {
     "name": "stdout",
     "output_type": "stream",
     "text": [
      "['Quem veio antes', ' O ovo', ' Ou foi a serpente', '']\n"
     ]
    }
   ],
   "source": [
    "# Mas é possível transformar uma string em lista:\n",
    "duvida = \"Quem veio antes? O ovo? Ou foi a serpente?\"\n",
    "lista = duvida.split(\"?\")\n",
    "print(lista)"
   ]
  },
  {
   "cell_type": "code",
   "execution_count": 12,
   "id": "c2eedf22",
   "metadata": {},
   "outputs": [
    {
     "name": "stdout",
     "output_type": "stream",
     "text": [
      "['Quem', 'veio', 'antes?', 'O', 'ovo?', 'Ou', 'foi', 'a', 'serpente?']\n"
     ]
    }
   ],
   "source": [
    "# O split() pode ser usado com um delimitador (como a ?) e separa a string com base nele\n",
    "# Caso você queira separar pelos espaços em branco é só deixar o delimitador vazio\n",
    "lista = duvida.split()\n",
    "print(lista)"
   ]
  },
  {
   "cell_type": "code",
   "execution_count": 14,
   "id": "204ae750",
   "metadata": {},
   "outputs": [
    {
     "name": "stdout",
     "output_type": "stream",
     "text": [
      "Quem veio antes? O ovo? Ou foi a serpente?\n"
     ]
    }
   ],
   "source": [
    "# Caso você queira o processo inverso é só usar o join\n",
    "texto = \" \" # O join une casa casa com esse espaço em branco\n",
    "texto = texto.join(lista)\n",
    "print(texto)"
   ]
  },
  {
   "cell_type": "markdown",
   "id": "fb5bcd8c",
   "metadata": {},
   "source": [
    "#### Manipulação de listas"
   ]
  },
  {
   "cell_type": "markdown",
   "id": "80172848",
   "metadata": {},
   "source": [
    "**len()** = quantidade de elementos da lista "
   ]
  },
  {
   "cell_type": "code",
   "execution_count": 15,
   "id": "fa296742",
   "metadata": {
    "scrolled": true
   },
   "outputs": [
    {
     "name": "stdout",
     "output_type": "stream",
     "text": [
      "5\n"
     ]
    }
   ],
   "source": [
    "lista = [\"Fabricio Daniel\", 9.0, 9.5, 10.0, True]\n",
    "print(len(lista))"
   ]
  },
  {
   "cell_type": "markdown",
   "id": "388f7950",
   "metadata": {},
   "source": [
    "**Partição** = [inicio:fim]"
   ]
  },
  {
   "cell_type": "code",
   "execution_count": 19,
   "id": "9dac2542",
   "metadata": {
    "scrolled": true
   },
   "outputs": [
    {
     "name": "stdout",
     "output_type": "stream",
     "text": [
      "[9.0, 9.5, 10.0]\n"
     ]
    }
   ],
   "source": [
    "print(lista[1:4])"
   ]
  },
  {
   "cell_type": "code",
   "execution_count": 20,
   "id": "fb75535a",
   "metadata": {},
   "outputs": [
    {
     "name": "stdout",
     "output_type": "stream",
     "text": [
      "['Fabricio Daniel', 9.0, 9.5]\n"
     ]
    }
   ],
   "source": [
    "print(lista[:3]) # já entende que vai começar do primeiro elemento (0)"
   ]
  },
  {
   "cell_type": "code",
   "execution_count": 21,
   "id": "c2ee3981",
   "metadata": {},
   "outputs": [
    {
     "name": "stdout",
     "output_type": "stream",
     "text": [
      "[10.0, True]\n"
     ]
    }
   ],
   "source": [
    "print(lista[3:]) # já entende que vai do 3 elemento até o ultimo "
   ]
  },
  {
   "cell_type": "code",
   "execution_count": 23,
   "id": "7ea27b76",
   "metadata": {
    "scrolled": true
   },
   "outputs": [
    {
     "name": "stdout",
     "output_type": "stream",
     "text": [
      "['Fabricio Daniel', 9.0, 9.5, 10.0, True]\n"
     ]
    }
   ],
   "source": [
    "print(lista[:])"
   ]
  },
  {
   "cell_type": "markdown",
   "id": "6739ea79",
   "metadata": {},
   "source": [
    "**append()** = adiciona um elemento ao final da lista"
   ]
  },
  {
   "cell_type": "code",
   "execution_count": 24,
   "id": "1bb174c4",
   "metadata": {},
   "outputs": [
    {
     "name": "stdout",
     "output_type": "stream",
     "text": [
      "['Fabricio Daniel', 9.0, 9.5, 10.0, True, 9.5]\n"
     ]
    }
   ],
   "source": [
    "lista.append(media)\n",
    "print(lista[:])"
   ]
  },
  {
   "cell_type": "markdown",
   "id": "65ac6bae",
   "metadata": {},
   "source": [
    "**extend()** = adiciona vários elementos ao final da lista"
   ]
  },
  {
   "cell_type": "code",
   "execution_count": 25,
   "id": "c41be39f",
   "metadata": {},
   "outputs": [
    {
     "name": "stdout",
     "output_type": "stream",
     "text": [
      "['Fabricio Daniel', 9.0, 9.5, 10.0, True, 9.5, 10.0, 8.0, 9.0]\n"
     ]
    }
   ],
   "source": [
    "lista.extend([10.0, 8.0, 9.0])\n",
    "print(lista[:])"
   ]
  },
  {
   "cell_type": "markdown",
   "id": "5225ae26",
   "metadata": {},
   "source": [
    "**remove()** = remove um item específico da lista"
   ]
  },
  {
   "cell_type": "code",
   "execution_count": 26,
   "id": "392c7a4a",
   "metadata": {},
   "outputs": [
    {
     "name": "stdout",
     "output_type": "stream",
     "text": [
      "['Fabricio Daniel', 9.0, 9.5, True, 9.5, 10.0, 8.0, 9.0, 10]\n"
     ]
    }
   ],
   "source": [
    "lista.append(10)\n",
    "lista.remove(10)\n",
    "print(lista[:])"
   ]
  },
  {
   "cell_type": "markdown",
   "id": "a99e593a",
   "metadata": {},
   "source": [
    "#### Para saber mais: outras manipulações para listas"
   ]
  },
  {
   "cell_type": "code",
   "execution_count": 27,
   "id": "e25354dd",
   "metadata": {},
   "outputs": [
    {
     "name": "stdout",
     "output_type": "stream",
     "text": [
      "['Labrador Retriever', 'Golden Retriever', 'Bulldog Francês', 'Pastor Alemão', 'Poodle']\n"
     ]
    }
   ],
   "source": [
    "# insert(indice, elemento) insere um elemento em uma posição específica\n",
    "raca_caes = ['Labrador Retriever', 'Bulldog Francês', 'Pastor Alemão', 'Poodle']\n",
    "raca_caes.insert(1, 'Golden Retriever')\n",
    "print(raca_caes[:])"
   ]
  },
  {
   "cell_type": "code",
   "execution_count": 28,
   "id": "48c529ca",
   "metadata": {},
   "outputs": [
    {
     "data": {
      "text/plain": [
       "'Golden Retriever'"
      ]
     },
     "execution_count": 28,
     "metadata": {},
     "output_type": "execute_result"
    }
   ],
   "source": [
    "# pop() remove um determinado elemento pela posição na lista e informa na saida\n",
    "raca_caes.pop(1)"
   ]
  },
  {
   "cell_type": "code",
   "execution_count": 29,
   "id": "6c76239e",
   "metadata": {},
   "outputs": [
    {
     "data": {
      "text/plain": [
       "2"
      ]
     },
     "execution_count": 29,
     "metadata": {},
     "output_type": "execute_result"
    }
   ],
   "source": [
    "# index() retorna o índice de um elemento específico na lista\n",
    "raca_caes.index('Pastor Alemão')"
   ]
  },
  {
   "cell_type": "code",
   "execution_count": 30,
   "id": "1276abc1",
   "metadata": {},
   "outputs": [
    {
     "name": "stdout",
     "output_type": "stream",
     "text": [
      "['Bulldog Francês', 'Labrador Retriever', 'Pastor Alemão', 'Poodle']\n"
     ]
    }
   ],
   "source": [
    "# sort() organiza os elementos em ordem crescente ou decrescente. Caso sejam strings, ordem alfabetica.\n",
    "raca_caes.sort()\n",
    "print(raca_caes[:])"
   ]
  },
  {
   "cell_type": "code",
   "execution_count": 35,
   "id": "946a74e4",
   "metadata": {},
   "outputs": [
    {
     "name": "stdout",
     "output_type": "stream",
     "text": [
      "['Poodle', 'Pastor Alemão', 'Labrador Retriever', 'Bulldog Francês']\n"
     ]
    }
   ],
   "source": [
    "raca_caes.sort(reverse = True)\n",
    "print(raca_caes[:])"
   ]
  },
  {
   "cell_type": "markdown",
   "id": "825a0eac",
   "metadata": {},
   "source": [
    "#### Dicionário"
   ]
  },
  {
   "cell_type": "code",
   "execution_count": 36,
   "id": "b0b01895",
   "metadata": {},
   "outputs": [
    {
     "data": {
      "text/plain": [
       "{'chave_1': 1, 'chave_2': 2}"
      ]
     },
     "execution_count": 36,
     "metadata": {},
     "output_type": "execute_result"
    }
   ],
   "source": [
    "dicionario = {'chave_1': 1, \n",
    "              'chave_2': 2}\n",
    "dicionario"
   ]
  },
  {
   "cell_type": "code",
   "execution_count": 37,
   "id": "4afbf8ad",
   "metadata": {},
   "outputs": [
    {
     "data": {
      "text/plain": [
       "{'matricula': 2000168933,\n",
       " 'dia_cadastro': 25,\n",
       " 'mes_cadastro': 10,\n",
       " 'turma': '2E'}"
      ]
     },
     "execution_count": 37,
     "metadata": {},
     "output_type": "execute_result"
    }
   ],
   "source": [
    "\"\"\"\n",
    "Matricula: 2000168933\n",
    "Dia de cadastro: 25\n",
    "Mês de cadastro: 10\n",
    "Turma: 2E\n",
    "\"\"\"\n",
    "cadastro = {'matricula': 2000168933,\n",
    "            'dia_cadastro': 25,\n",
    "            'mes_cadastro': 10,\n",
    "            'turma': '2E'}\n",
    "cadastro"
   ]
  },
  {
   "cell_type": "code",
   "execution_count": 41,
   "id": "1731f829",
   "metadata": {
    "scrolled": true
   },
   "outputs": [
    {
     "name": "stdout",
     "output_type": "stream",
     "text": [
      "2000168933\n",
      "2E\n"
     ]
    }
   ],
   "source": [
    "print(cadastro['matricula'])\n",
    "print(cadastro['turma'])"
   ]
  },
  {
   "cell_type": "code",
   "execution_count": 42,
   "id": "577e6ba3",
   "metadata": {},
   "outputs": [
    {
     "data": {
      "text/plain": [
       "{'matricula': 2000168933,\n",
       " 'dia_cadastro': 25,\n",
       " 'mes_cadastro': 10,\n",
       " 'turma': '2G'}"
      ]
     },
     "execution_count": 42,
     "metadata": {},
     "output_type": "execute_result"
    }
   ],
   "source": [
    "cadastro['turma'] = '2G'\n",
    "cadastro"
   ]
  },
  {
   "cell_type": "code",
   "execution_count": 43,
   "id": "c3fa3615",
   "metadata": {},
   "outputs": [
    {
     "data": {
      "text/plain": [
       "{'matricula': 2000168933,\n",
       " 'dia_cadastro': 25,\n",
       " 'mes_cadastro': 10,\n",
       " 'turma': '2G',\n",
       " 'modalidade': 'EAD'}"
      ]
     },
     "execution_count": 43,
     "metadata": {},
     "output_type": "execute_result"
    }
   ],
   "source": [
    "cadastro['modalidade'] = 'EAD'\n",
    "# como modalidade não existe, ela vai ser criada no final do dicionario\n",
    "cadastro"
   ]
  },
  {
   "cell_type": "markdown",
   "id": "a9cc72c1",
   "metadata": {},
   "source": [
    "#### Aprofundando em dicionários"
   ]
  },
  {
   "cell_type": "code",
   "execution_count": 45,
   "id": "1d640f48",
   "metadata": {},
   "outputs": [
    {
     "data": {
      "text/plain": [
       "'2G'"
      ]
     },
     "execution_count": 45,
     "metadata": {},
     "output_type": "execute_result"
    }
   ],
   "source": [
    "cadastro.pop('turma')"
   ]
  },
  {
   "cell_type": "code",
   "execution_count": 46,
   "id": "63b1a48f",
   "metadata": {
    "scrolled": true
   },
   "outputs": [
    {
     "data": {
      "text/plain": [
       "{'matricula': 2000168933,\n",
       " 'dia_cadastro': 25,\n",
       " 'mes_cadastro': 10,\n",
       " 'modalidade': 'EAD'}"
      ]
     },
     "execution_count": 46,
     "metadata": {},
     "output_type": "execute_result"
    }
   ],
   "source": [
    "cadastro"
   ]
  },
  {
   "cell_type": "markdown",
   "id": "2a41473e",
   "metadata": {},
   "source": [
    "Métodos de consulta:"
   ]
  },
  {
   "cell_type": "code",
   "execution_count": 48,
   "id": "3e8ccdda",
   "metadata": {},
   "outputs": [
    {
     "data": {
      "text/plain": [
       "dict_items([('matricula', 2000168933), ('dia_cadastro', 25), ('mes_cadastro', 10), ('modalidade', 'EAD')])"
      ]
     },
     "execution_count": 48,
     "metadata": {},
     "output_type": "execute_result"
    }
   ],
   "source": [
    "# items() retorna uma lista de pares chave-valor do dicionário\n",
    "cadastro.items()"
   ]
  },
  {
   "cell_type": "code",
   "execution_count": 49,
   "id": "1d63ffaf",
   "metadata": {},
   "outputs": [
    {
     "data": {
      "text/plain": [
       "dict_keys(['matricula', 'dia_cadastro', 'mes_cadastro', 'modalidade'])"
      ]
     },
     "execution_count": 49,
     "metadata": {},
     "output_type": "execute_result"
    }
   ],
   "source": [
    "# keys() retorna uma lista de chaves do dicionário\n",
    "cadastro.keys()"
   ]
  },
  {
   "cell_type": "code",
   "execution_count": 50,
   "id": "f542069a",
   "metadata": {},
   "outputs": [
    {
     "data": {
      "text/plain": [
       "dict_values([2000168933, 25, 10, 'EAD'])"
      ]
     },
     "execution_count": 50,
     "metadata": {},
     "output_type": "execute_result"
    }
   ],
   "source": [
    "# values() retorna uma lista dos valores do dicionário\n",
    "cadastro.values()"
   ]
  },
  {
   "cell_type": "markdown",
   "id": "2f2b0a15",
   "metadata": {},
   "source": [
    "Leitura de valores com for"
   ]
  },
  {
   "cell_type": "code",
   "execution_count": 53,
   "id": "675cf100",
   "metadata": {},
   "outputs": [
    {
     "name": "stdout",
     "output_type": "stream",
     "text": [
      "2000168933\n",
      "25\n",
      "10\n",
      "EAD\n"
     ]
    }
   ],
   "source": [
    "for chaves in cadastro.keys():\n",
    "    print(cadastro[chaves])"
   ]
  },
  {
   "cell_type": "code",
   "execution_count": 54,
   "id": "350b53f8",
   "metadata": {},
   "outputs": [
    {
     "name": "stdout",
     "output_type": "stream",
     "text": [
      "2000168933\n",
      "25\n",
      "10\n",
      "EAD\n"
     ]
    }
   ],
   "source": [
    "for valores in cadastro.values():\n",
    "    print(valores)"
   ]
  },
  {
   "cell_type": "code",
   "execution_count": 55,
   "id": "9a64c03d",
   "metadata": {
    "scrolled": true
   },
   "outputs": [
    {
     "name": "stdout",
     "output_type": "stream",
     "text": [
      "matricula 2000168933\n",
      "dia_cadastro 25\n",
      "mes_cadastro 10\n",
      "modalidade EAD\n"
     ]
    }
   ],
   "source": [
    "# o for é usado com dois elementos porque o cadastro.items() retorna dois valores (chave, valor)\n",
    "for chaves, valores in cadastro.items():\n",
    "    print(chaves, valores)"
   ]
  },
  {
   "cell_type": "markdown",
   "id": "7957c2fb",
   "metadata": {},
   "source": [
    "#### Para saber mais: listas em dicionários"
   ]
  },
  {
   "cell_type": "code",
   "execution_count": 61,
   "id": "793b990d",
   "metadata": {
    "scrolled": true
   },
   "outputs": [
    {
     "name": "stdout",
     "output_type": "stream",
     "text": [
      "Chave: nomes\n",
      "Elementos:\n",
      "televisão\n",
      "celular\n",
      "notebook\n",
      "geladeira\n",
      "fogão\n",
      "\n",
      "Chave: precos\n",
      "Elementos:\n",
      "2000\n",
      "1500\n",
      "3500\n",
      "4000\n",
      "1500\n",
      "\n"
     ]
    }
   ],
   "source": [
    "# é possível utilizar listas em dicionários\n",
    "loja = {'nomes': ['televisão', 'celular', 'notebook', 'geladeira', 'fogão'],\n",
    "        'precos': [2000, 1500, 3500, 4000, 1500]}\n",
    "\n",
    "for chave, elementos in loja.items():\n",
    "    print(f'Chave: {chave}\\nElementos:')\n",
    "    for dado in elementos:\n",
    "        print(dado)\n",
    "    print(\"\")"
   ]
  },
  {
   "cell_type": "markdown",
   "id": "ae31a152",
   "metadata": {},
   "source": [
    "#### Para saber mais: Funções built-it\n",
    "Já conhecidas: print(), input(), len(), int(), etc"
   ]
  },
  {
   "cell_type": "code",
   "execution_count": 63,
   "id": "409d84bb",
   "metadata": {},
   "outputs": [
    {
     "name": "stdout",
     "output_type": "stream",
     "text": [
      "700.0\n"
     ]
    }
   ],
   "source": [
    "# sum() permite somar os elementos em um sequencia de estrutura de dados\n",
    "precos = [100.0, 400.0, 200.0]\n",
    "soma = sum(precos)\n",
    "print(soma)"
   ]
  }
 ],
 "metadata": {
  "kernelspec": {
   "display_name": "Python 3 (ipykernel)",
   "language": "python",
   "name": "python3"
  },
  "language_info": {
   "codemirror_mode": {
    "name": "ipython",
    "version": 3
   },
   "file_extension": ".py",
   "mimetype": "text/x-python",
   "name": "python",
   "nbconvert_exporter": "python",
   "pygments_lexer": "ipython3",
   "version": "3.11.5"
  }
 },
 "nbformat": 4,
 "nbformat_minor": 5
}
